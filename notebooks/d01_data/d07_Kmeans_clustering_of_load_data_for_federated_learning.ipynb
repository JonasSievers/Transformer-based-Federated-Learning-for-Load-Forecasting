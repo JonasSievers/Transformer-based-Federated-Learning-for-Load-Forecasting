{
 "cells": [
  {
   "cell_type": "code",
   "execution_count": 1,
   "id": "e5436cb3",
   "metadata": {},
   "outputs": [],
   "source": [
    "#Imports\n",
    "\n",
    "# pandas for reading and analyzing data\n",
    "import pandas as pd\n",
    "# numpy for numerical calcuations\n",
    "import numpy as np\n",
    "# seaborn for statistical data visualization\n",
    "import seaborn as sns\n",
    "# datetime to use dates in datetime format\n",
    "import datetime\n",
    "# math to calculate model evaluation steps\n",
    "import math\n",
    "# sklearn for minMaxSclaing and mse\n",
    "from sklearn.preprocessing import MinMaxScaler\n",
    "from sklearn.metrics import mean_squared_error\n",
    "# matplotlib to plot numpy array\n",
    "import matplotlib.pyplot as plt\n",
    "#tslearn for K-Means Clustering\n",
    "from tslearn.clustering import TimeSeriesKMeans\n",
    "# os to find path of files \n",
    "import os"
   ]
  },
  {
   "cell_type": "code",
   "execution_count": 4,
   "id": "3f31dd6c",
   "metadata": {},
   "outputs": [],
   "source": [
    "#Data Analytics\n",
    "\n",
    "# get current working directory and go back one folder to main working directory\n",
    "cwd = os.path.normpath(os.getcwd() + os.sep + os.pardir + os.sep + os.pardir)\n",
    "# set path to load data file\n",
    "load_data_path = '/data/d03_data_processed/d03_data_processed.csv'\n",
    "path = cwd + load_data_path\n",
    "  \n",
    "#Read CSV file to pandas dataframe; encoding= 'unicode_escape': Decode from Latin-1 source code. Default UTF-8.\n",
    "df = pd.read_csv(path, encoding= 'unicode_escape', index_col='Date')\n"
   ]
  },
  {
   "cell_type": "code",
   "execution_count": 5,
   "id": "37e03f95",
   "metadata": {},
   "outputs": [
    {
     "name": "stderr",
     "output_type": "stream",
     "text": [
      "C:\\Users\\jonas\\AppData\\Local\\Programs\\Python\\Python310\\lib\\site-packages\\tslearn\\utils\\utils.py:88: UserWarning: 2-Dimensional data passed. Assuming these are 33 1-dimensional timeseries\n",
      "  warnings.warn('2-Dimensional data passed. Assuming these are '\n"
     ]
    },
    {
     "name": "stdout",
     "output_type": "stream",
     "text": [
      "Clustering results:  [5 5 6 6 2 0 0 8 2 7 0 0 0 2 4 4 4 4 0 0 4 3 4 4 0 5 5 2 7 1 1 0 5]\n"
     ]
    }
   ],
   "source": [
    "#K-menas Clustering\n",
    "N_CLUSTERS=9\n",
    "\n",
    "#New Dataframe for clustering data without time and weather features\n",
    "time_series_data = df.drop(['temp', 'rhum', 'hour sin', 'hour cos', 'dayofweek sin', 'dayofweek cos'], axis=1)\n",
    "time_series_data.reset_index(inplace=True)\n",
    "#Downsample Data to improve Clustering runtime\n",
    "undersample_data = time_series_data.loc[np.linspace(time_series_data.index.min(),time_series_data.index.max(),3000).astype(int)]\n",
    "undersample_data = undersample_data.reset_index().drop('index',axis=1)\n",
    "#Performe K-means clustering with Dynamic Time Warping\n",
    "data_array = np.array(undersample_data.T.drop('Date').values)\n",
    "model = TimeSeriesKMeans(n_clusters=N_CLUSTERS, metric=\"dtw\", max_iter=40)\n",
    "model.fit(data_array)\n",
    "y=model.predict(data_array)\n",
    "x = undersample_data.Date\n",
    "print(\"Clustering results: \", y)\n"
   ]
  },
  {
   "cell_type": "code",
   "execution_count": 6,
   "id": "299e997a",
   "metadata": {},
   "outputs": [],
   "source": [
    "#y=[2, 2, 4, 4, 1, 5, 1, 5, 1, 5, 5, 5, 5, 1, 3, 0, 3, 0, 5, 1, 3, 3, 3, 3, 5, 2, 2, 1, 3, 0, 0, 1, 2]"
   ]
  },
  {
   "cell_type": "code",
   "execution_count": 7,
   "id": "5508bf7b",
   "metadata": {},
   "outputs": [],
   "source": [
    "path = cwd + \"/data/d04_clients_clustered/d04_clients_clustered_N9.csv\"\n",
    "np.savetxt(path, y, delimiter=\",\")"
   ]
  },
  {
   "cell_type": "code",
   "execution_count": null,
   "id": "359a97da",
   "metadata": {},
   "outputs": [],
   "source": []
  }
 ],
 "metadata": {
  "kernelspec": {
   "display_name": "Python 3 (ipykernel)",
   "language": "python",
   "name": "python3"
  },
  "language_info": {
   "codemirror_mode": {
    "name": "ipython",
    "version": 3
   },
   "file_extension": ".py",
   "mimetype": "text/x-python",
   "name": "python",
   "nbconvert_exporter": "python",
   "pygments_lexer": "ipython3",
   "version": "3.10.8"
  }
 },
 "nbformat": 4,
 "nbformat_minor": 5
}
