{
 "cells": [
  {
   "cell_type": "code",
   "execution_count": 1,
   "id": "75d28839",
   "metadata": {},
   "outputs": [],
   "source": [
    "#Imports\n",
    "\n",
    "#Pandas: Reading and analyzing data\n",
    "import pandas as pd\n",
    "#Numerical calcuations\n",
    "import numpy as np\n",
    "#statistical data visualization\n",
    "import seaborn as sns\n",
    "#Use Dates in Datetime Format\n",
    "import datetime\n",
    "#Tensorflow\n",
    "import tensorflow as tf\n",
    "#Keras: Open-Source deep-learning library \n",
    "from tensorflow import keras\n",
    "#Building blocks of NN in Keras\n",
    "from tensorflow.keras import layers\n",
    "#EarlyStop to stop training early\n",
    "from tensorflow.keras.callbacks import EarlyStopping\n",
    "#Functional API: Layers for different models\n",
    "from keras.layers import Dense, LSTM, Dropout\n",
    "#Normalization\n",
    "from sklearn.preprocessing import MinMaxScaler\n",
    "#Standardization\n",
    "from sklearn.preprocessing import StandardScaler\n",
    "#Evaluate models\n",
    "import math\n",
    "#Evaluate MSE\n",
    "from sklearn.metrics import mean_squared_error\n",
    "#plot numpy array\n",
    "import matplotlib.pyplot as plt\n",
    "#Create Folder for modelling checkpoint\n",
    "import os\n",
    "#Callback to logg model fitting time\n",
    "import time\n",
    "from timeit import default_timer as timer\n",
    "#Clear output after training\n",
    "import IPython\n",
    "import IPython.display\n",
    "#Normalization\n",
    "from sklearn.preprocessing import MinMaxScaler\n",
    "#Standardization\n",
    "from sklearn.preprocessing import StandardScaler\n",
    "\n",
    "#Helper Class (Export Notebook as .py)\n",
    "# helper functions\n",
    "import sys\n",
    "# caution: path[0] is reserved for script path (or '' in REPL)\n",
    "cwd = os.path.normpath(os.getcwd() + os.sep + os.pardir + os.sep + os.pardir)\n",
    "sys.path.insert(1, cwd + \"/src/d00_utils\") \n",
    "from local_helper_functions import *\n",
    "from model_helper_functions import *\n",
    "from windowgenerator import *\n",
    "\n",
    "#Data Analytics\n",
    "\n",
    "print(\"Get data\")\n",
    "#Read CSV file to pandas dataframe; encoding= 'unicode_escape': Decode from Latin-1 source code. Default UTF-8.\n",
    "df = pd.read_csv(cwd+'/data/d03_data_processed/d03_data_processed.csv', encoding= 'unicode_escape', index_col='Date')\n",
    "#Display smart meter names and amount\n",
    "smart_meter_names = df.columns[2:-4]\n",
    "print(\"Selected clients: \", len(smart_meter_names))\n",
    "\n",
    "# Make Datasets for the 33 clients and for 5 and 7 features\n",
    "ds_dict = makeDatasetsForclientsAndfeatures(smart_meter_names, df)\n",
    "print(\"Created dictionary with datasets\")\n",
    "\n",
    "#Set Hyperparameter\n",
    "#Data Shape\n",
    "OUT_STEPS = [12, 24] #Next 12 or 24 hours\n",
    "NUM_FEATURES = [5, 7] # [F_T, F_TW] load_value, hour sin, hour cos, dayofweek sin, dayofweek cos + (temp, rhum)\n",
    "INPUT_STEPS = 24\n",
    "INPUT_SHAPE = [(INPUT_STEPS, NUM_FEATURES[0]), (INPUT_STEPS, NUM_FEATURES[1])]\n",
    "\n",
    "#LSTM\n",
    "NUM_LSTM_LAYERS = 4\n",
    "NUM_LSTM_CELLS = 32\n",
    "NUM_LSTM_DENSE_LAYERS=1\n",
    "NUM_LSTM_DENSE_UNITS = 32\n",
    "LSTM_DROPOUT = 0.2\n",
    "\n",
    "#CNN\n",
    "CONV_WIDTH = 3\n",
    "NUM_CNN_LAYERS = 4\n",
    "NUM_CNN_FILTERS = 24\n",
    "NUM_CNN_DENSE_LAYERS = 1\n",
    "NUM_CNN_DENSE_UNITS = 32\n",
    "CNN_DROPOUT = 0.2\n",
    "\n",
    "#Federated Learning\n",
    "comms_round = 20\n",
    "#Training epochs\n",
    "MAX_EPOCHS = 100\n",
    "\n",
    "# Create Windows \n",
    "windows_dict = createLocalDataWindows(smart_meter_names, INPUT_STEPS, OUT_STEPS, ds_dict)\n",
    "print(\"Created Data windows\")\n",
    "\n",
    "# Local Learning\n",
    "# Set random seed for as reproducible results as possible\n",
    "tf.random.set_seed(42)\n",
    "\n",
    "#h12 f5\n",
    "\n",
    "#Build and save local models\n",
    "for idx, client in enumerate(smart_meter_names):\n",
    "    #Build local models (LSTM, CNN, Transformer)\n",
    "    local_LSTM_models, local_CNN_models, local_Transformer_models = createLocalModels(\n",
    "        smart_meter_names, INPUT_SHAPE[0], OUT_STEPS[0], NUM_FEATURES[0], 'Local_LSTM_F5_H12', 'Local_CNN_F5_H12', 'Local_Transformer_F5_H12',\n",
    "        NUM_LSTM_CELLS, NUM_LSTM_LAYERS, NUM_LSTM_DENSE_LAYERS, NUM_LSTM_DENSE_UNITS, LSTM_DROPOUT, \n",
    "        CONV_WIDTH, NUM_CNN_LAYERS, NUM_CNN_FILTERS, NUM_CNN_DENSE_LAYERS, NUM_CNN_DENSE_UNITS, CNN_DROPOUT, \n",
    "    )\n",
    "    #initilally save local models\n",
    "    initiallySaveAllLocalModels(cwd, smart_meter_names, local_LSTM_models, local_CNN_models, local_Transformer_models)\n",
    "  \n",
    "\n",
    "\n",
    "#Train local models\n",
    "for idx, client in enumerate(smart_meter_names): \n",
    "    \n",
    "    # Clear terminal and print current training round\n",
    "    IPython.display.clear_output()\n",
    "    print(\"Started with new client -----------------\", idx+1, \"/33\")\n",
    "    \n",
    "    #Get local models\n",
    "    local_LSTM_model, local_CNN_model, local_Transformer_model = loadLocalModels( \n",
    "        cwd, local_LSTM_models, local_CNN_models, local_Transformer_models, idx, client\n",
    "    )\n",
    "    \n",
    "    #compile and fit for n rounds\n",
    "    local_LSTM_model = compile_fit(\n",
    "        local_LSTM_model,\n",
    "        windows_dict[client][0],\n",
    "        MAX_EPOCHS\n",
    "    )\n",
    "       \n",
    "    #compile and fit n rounds\n",
    "    local_CNN_model = compile_fit(\n",
    "        local_LSTM_model,\n",
    "        windows_dict[client][0],\n",
    "        MAX_EPOCHS\n",
    "    )\n",
    "    \n",
    "    #Compile and fit n rounds\n",
    "    local_Transformer_model = compile_fit(\n",
    "        local_LSTM_model,\n",
    "        windows_dict[client][0],\n",
    "        MAX_EPOCHS\n",
    "    )\n",
    "        \n",
    "    #Save Transformer model\n",
    "    saveLocalModels(cwd, local_LSTM_model, local_CNN_model, local_Transformer_model, client)"
   ]
  },
  {
   "cell_type": "code",
   "execution_count": null,
   "id": "da572504",
   "metadata": {},
   "outputs": [],
   "source": []
  },
  {
   "cell_type": "code",
   "execution_count": 81,
   "id": "0b30bf38",
   "metadata": {},
   "outputs": [],
   "source": [
    "#Build Models\n",
    "multi_lstm_model = build_LSTM_model(\n",
    "    input_shape = INPUT_SHAPE[0], \n",
    "    num_LSTM_cells = NUM_LSTM_CELLS,\n",
    "    num_LSTM_layers = NUM_LSTM_LAYERS,\n",
    "    num_LSTM_dense_layers = NUM_LSTM_DENSE_LAYERS,\n",
    "    num_LSTM_dense_units = NUM_LSTM_DENSE_UNITS,\n",
    "    LSTM_dropout = LSTM_DROPOUT,\n",
    "    output_steps = OUT_STEPS[1],\n",
    "    num_features = NUM_FEATURES[0],\n",
    "    model_name = 'Local_LSTM_F5_H24'\n",
    ")\n",
    "multi_conv_model = build_CNN_model(\n",
    "    input_shape = INPUT_SHAPE[0], \n",
    "    conv_width = CONV_WIDTH,\n",
    "    num_CNN_layers = NUM_CNN_LAYERS,\n",
    "    num_CNN_filters = NUM_CNN_FILTERS,\n",
    "    num_CNN_dense_layers = NUM_CNN_DENSE_LAYERS,\n",
    "    num_CNN_dense_units = NUM_CNN_DENSE_UNITS,\n",
    "    CNN_dropout = CNN_DROPOUT,\n",
    "    output_steps = OUT_STEPS[1],\n",
    "    num_features = NUM_FEATURES[0],\n",
    "    model_name = 'Local_CNN_F5_H24'\n",
    ")\n",
    "#Transformer\n",
    "multi_transformer_model = build_transformer_model(\n",
    "    input_shape = INPUT_SHAPE[0],\n",
    "    head_size=TRANSFORMER_HEAD_SIZE,\n",
    "    num_heads=TRANSFORMER_NUM_HEADS,\n",
    "    ff_dim=TRANSFORMER_FF_DIM,\n",
    "    num_transformer_blocks=NUM_TRANSFORMER_BLOCKS,\n",
    "    mlp_units=[TRANSFORMER_MLP_UNITS],\n",
    "    mlp_dropout=TRANSFORMER_MLP_DROPOUT,\n",
    "    dropout=TRANSFORMER_DROPOUT,\n",
    "    out_steps = OUT_STEPS[1],\n",
    "    num_features = NUM_FEATURES[0],\n",
    "    model_name = 'Local_Transformer_F5_H24'    \n",
    ")"
   ]
  },
  {
   "cell_type": "code",
   "execution_count": 82,
   "id": "ef78f742",
   "metadata": {},
   "outputs": [
    {
     "name": "stdout",
     "output_type": "stream",
     "text": [
      "----------------------- 32 /32\n",
      "574/574 [==============================] - ETA: 0s - loss: 0.0372 - root_mean_squared_error: 0.1929 - mean_absolute_percentage_error: 40866524.0000 - mean_absolute_error: 0.1440"
     ]
    },
    {
     "name": "stderr",
     "output_type": "stream",
     "text": [
      "WARNING:absl:Function `_wrapped_model` contains input name(s) Input with unsupported characters which will be renamed to input in the SavedModel.\n",
      "WARNING:absl:Found untraced functions such as _update_step_xla, lstm_cell_240_layer_call_fn, lstm_cell_240_layer_call_and_return_conditional_losses, lstm_cell_241_layer_call_fn, lstm_cell_241_layer_call_and_return_conditional_losses while saving (showing 5 of 7). These functions will not be directly callable after loading.\n"
     ]
    },
    {
     "name": "stdout",
     "output_type": "stream",
     "text": [
      "INFO:tensorflow:Assets written to: model_experiments/Local/Local_LSTM_F5_H24\\6907-ZE01-74\\assets\n"
     ]
    },
    {
     "name": "stderr",
     "output_type": "stream",
     "text": [
      "INFO:tensorflow:Assets written to: model_experiments/Local/Local_LSTM_F5_H24\\6907-ZE01-74\\assets\n"
     ]
    },
    {
     "name": "stdout",
     "output_type": "stream",
     "text": [
      "574/574 [==============================] - 92s 155ms/step - loss: 0.0372 - root_mean_squared_error: 0.1929 - mean_absolute_percentage_error: 40866524.0000 - mean_absolute_error: 0.1440 - val_loss: 0.0413 - val_root_mean_squared_error: 0.2032 - val_mean_absolute_percentage_error: 33221766.0000 - val_mean_absolute_error: 0.1661\n",
      "81/81 [==============================] - 4s 46ms/step - loss: 0.0372 - root_mean_squared_error: 0.1930 - mean_absolute_percentage_error: 36172464.0000 - mean_absolute_error: 0.1632\n",
      "565/574 [============================>.] - ETA: 0s - loss: 0.0386 - root_mean_squared_error: 0.1964 - mean_absolute_percentage_error: 40684024.0000 - mean_absolute_error: 0.1468"
     ]
    },
    {
     "name": "stderr",
     "output_type": "stream",
     "text": [
      "WARNING:absl:Function `_wrapped_model` contains input name(s) Input with unsupported characters which will be renamed to input in the SavedModel.\n",
      "WARNING:absl:Found untraced functions such as _jit_compiled_convolution_op, _update_step_xla while saving (showing 2 of 2). These functions will not be directly callable after loading.\n"
     ]
    },
    {
     "name": "stdout",
     "output_type": "stream",
     "text": [
      "INFO:tensorflow:Assets written to: model_experiments/Local/Local_CNN_F5_H24\\6907-ZE01-74\\assets\n"
     ]
    },
    {
     "name": "stderr",
     "output_type": "stream",
     "text": [
      "INFO:tensorflow:Assets written to: model_experiments/Local/Local_CNN_F5_H24\\6907-ZE01-74\\assets\n"
     ]
    },
    {
     "name": "stdout",
     "output_type": "stream",
     "text": [
      "574/574 [==============================] - 5s 7ms/step - loss: 0.0384 - root_mean_squared_error: 0.1960 - mean_absolute_percentage_error: 40660892.0000 - mean_absolute_error: 0.1466 - val_loss: 0.0415 - val_root_mean_squared_error: 0.2036 - val_mean_absolute_percentage_error: 34183556.0000 - val_mean_absolute_error: 0.1652\n",
      "81/81 [==============================] - 0s 2ms/step - loss: 0.0369 - root_mean_squared_error: 0.1922 - mean_absolute_percentage_error: 37202512.0000 - mean_absolute_error: 0.1611\n",
      "574/574 [==============================] - ETA: 0s - loss: 0.0365 - root_mean_squared_error: 0.1910 - mean_absolute_percentage_error: 41127916.0000 - mean_absolute_error: 0.1416"
     ]
    },
    {
     "name": "stderr",
     "output_type": "stream",
     "text": [
      "WARNING:absl:Found untraced functions such as _jit_compiled_convolution_op, _jit_compiled_convolution_op, _update_step_xla, query_layer_call_fn, query_layer_call_and_return_conditional_losses while saving (showing 5 of 15). These functions will not be directly callable after loading.\n"
     ]
    },
    {
     "name": "stdout",
     "output_type": "stream",
     "text": [
      "INFO:tensorflow:Assets written to: model_experiments/Local/Local_Transformer_F5_H24\\6907-ZE01-74\\assets\n"
     ]
    },
    {
     "name": "stderr",
     "output_type": "stream",
     "text": [
      "INFO:tensorflow:Assets written to: model_experiments/Local/Local_Transformer_F5_H24\\6907-ZE01-74\\assets\n"
     ]
    },
    {
     "name": "stdout",
     "output_type": "stream",
     "text": [
      "574/574 [==============================] - 39s 67ms/step - loss: 0.0365 - root_mean_squared_error: 0.1910 - mean_absolute_percentage_error: 41127916.0000 - mean_absolute_error: 0.1416 - val_loss: 0.0416 - val_root_mean_squared_error: 0.2040 - val_mean_absolute_percentage_error: 33855284.0000 - val_mean_absolute_error: 0.1662\n",
      "81/81 [==============================] - 2s 18ms/step - loss: 0.0372 - root_mean_squared_error: 0.1929 - mean_absolute_percentage_error: 37018404.0000 - mean_absolute_error: 0.1606\n"
     ]
    }
   ],
   "source": [
    "#windows_dict[smart_meter_names][0-3] \n",
    "#    -> 0:window_F5_H12 , 1:window_F5_H24 , 2:window_F7_H12 , 3:window_F7_H24\n",
    "forecasts_dict_LSTM_F5_H24 = {}\n",
    "forecasts_dict_CNN_F5_H24 = {}\n",
    "forecasts_dict_Transformer_F5_H24 = {}\n",
    "\n",
    "for idx, client in enumerate(smart_meter_names):\n",
    "    IPython.display.clear_output()\n",
    "    print(\"-----------------------\", idx, \"/32\")\n",
    "    \n",
    "    #LSTM\n",
    "    history = compile_and_fit(multi_lstm_model, windows_dict[client][1], model_name='Local_LSTM_F5_H24', client_name=client, MAX_EPOCHS=MAX_EPOCHS)\n",
    "    #Load best model\n",
    "    model = tf.keras.models.load_model(f\"model_experiments/Local/Local_LSTM_F5_H24/{client}\")\n",
    "    model_evaluation_test = model.evaluate(windows_dict[client][1].test)\n",
    "    #Save results\n",
    "    forecasts_dict_LSTM_F5_H24[client] = {\n",
    "        'MSE':model_evaluation_test[0], 'RMSE':model_evaluation_test[1], 'MAPE':model_evaluation_test[2],\n",
    "        'MAE':model_evaluation_test[3], 'Time':((timetaken.logs[-1][1]) / (timetaken.logs[-1][0]+1))                              \n",
    "                             }\n",
    "    \n",
    "    #CNN\n",
    "    history = compile_and_fit(multi_conv_model, windows_dict[client][1], model_name='Local_CNN_F5_H24', client_name=client, MAX_EPOCHS=MAX_EPOCHS)\n",
    "    #Load best model\n",
    "    model = tf.keras.models.load_model(f\"model_experiments/Local/Local_CNN_F5_H24/{client}\")\n",
    "    model_evaluation_test = model.evaluate(windows_dict[client][1].test)\n",
    "    #Save results\n",
    "    forecasts_dict_CNN_F5_H24[client] = {\n",
    "        'MSE':model_evaluation_test[0], 'RMSE':model_evaluation_test[1], 'MAPE':model_evaluation_test[2],\n",
    "        'MAE':model_evaluation_test[3], 'Time':((timetaken.logs[-1][1]) / (timetaken.logs[-1][0]+1))                              \n",
    "                             }\n",
    "    \n",
    "    #Transformer\n",
    "    history = compile_and_fit(multi_transformer_model, windows_dict[client][1], model_name='Local_Transformer_F5_H24', client_name=client, MAX_EPOCHS=MAX_EPOCHS)\n",
    "    #Load best model\n",
    "    model = tf.keras.models.load_model(f\"model_experiments/Local/Local_Transformer_F5_H24/{client}\")\n",
    "    model_evaluation_test = model.evaluate(windows_dict[client][1].test)\n",
    "    #Save results\n",
    "    forecasts_dict_Transformer_F5_H24[client] = {\n",
    "        'MSE':model_evaluation_test[0], 'RMSE':model_evaluation_test[1], 'MAPE':model_evaluation_test[2],\n",
    "        'MAE':model_evaluation_test[3], 'Time':((timetaken.logs[-1][1]) / (timetaken.logs[-1][0]+1))                              \n",
    "                             }\n",
    "    \n",
    "final_dict['Local']['LSTM']['H24']['F5'] = forecasts_dict_LSTM_F5_H24\n",
    "final_dict['Local']['CNN']['H24']['F5'] = forecasts_dict_CNN_F5_H24\n",
    "final_dict['Local']['Transformer']['H24']['F5'] = forecasts_dict_Transformer_F5_H24"
   ]
  },
  {
   "cell_type": "markdown",
   "id": "3210cc2e",
   "metadata": {},
   "source": [
    "### Features 7, Horizon 12"
   ]
  },
  {
   "cell_type": "code",
   "execution_count": 83,
   "id": "ea8b07db",
   "metadata": {},
   "outputs": [],
   "source": [
    "#Build Models\n",
    "multi_lstm_model = build_LSTM_model(\n",
    "    input_shape = INPUT_SHAPE[1], \n",
    "    num_LSTM_cells = NUM_LSTM_CELLS,\n",
    "    num_LSTM_layers = NUM_LSTM_LAYERS,\n",
    "    num_LSTM_dense_layers = NUM_LSTM_DENSE_LAYERS,\n",
    "    num_LSTM_dense_units = NUM_LSTM_DENSE_UNITS,\n",
    "    LSTM_dropout = LSTM_DROPOUT,\n",
    "    output_steps = OUT_STEPS[0],\n",
    "    num_features = NUM_FEATURES[1],\n",
    "    model_name = 'Local_LSTM_F7_H12'\n",
    ")\n",
    "multi_conv_model = build_CNN_model(\n",
    "    input_shape = INPUT_SHAPE[1], \n",
    "    conv_width = CONV_WIDTH,\n",
    "    num_CNN_layers = NUM_CNN_LAYERS,\n",
    "    num_CNN_filters = NUM_CNN_FILTERS,\n",
    "    num_CNN_dense_layers = NUM_CNN_DENSE_LAYERS,\n",
    "    num_CNN_dense_units = NUM_CNN_DENSE_UNITS,\n",
    "    CNN_dropout = CNN_DROPOUT,\n",
    "    output_steps = OUT_STEPS[0],\n",
    "    num_features = NUM_FEATURES[1],\n",
    "    model_name = 'Local_CNN_F7_H12'\n",
    ")\n",
    "#Transformer\n",
    "multi_transformer_model = build_transformer_model(\n",
    "    input_shape = INPUT_SHAPE[1],\n",
    "    head_size=TRANSFORMER_HEAD_SIZE,\n",
    "    num_heads=TRANSFORMER_NUM_HEADS,\n",
    "    ff_dim=TRANSFORMER_FF_DIM,\n",
    "    num_transformer_blocks=NUM_TRANSFORMER_BLOCKS,\n",
    "    mlp_units=[TRANSFORMER_MLP_UNITS],\n",
    "    mlp_dropout=TRANSFORMER_MLP_DROPOUT,\n",
    "    dropout=TRANSFORMER_DROPOUT,\n",
    "    out_steps = OUT_STEPS[0],\n",
    "    num_features = NUM_FEATURES[1],\n",
    "    model_name = 'Local_Transformer_F7_H12'    \n",
    ")"
   ]
  },
  {
   "cell_type": "code",
   "execution_count": 84,
   "id": "209c03c8",
   "metadata": {},
   "outputs": [
    {
     "name": "stdout",
     "output_type": "stream",
     "text": [
      "----------------------- 32 /32\n",
      "575/575 [==============================] - ETA: 0s - loss: 0.0320 - root_mean_squared_error: 0.1789 - mean_absolute_percentage_error: 40454040.0000 - mean_absolute_error: 0.1291"
     ]
    },
    {
     "name": "stderr",
     "output_type": "stream",
     "text": [
      "WARNING:absl:Function `_wrapped_model` contains input name(s) Input with unsupported characters which will be renamed to input in the SavedModel.\n",
      "WARNING:absl:Found untraced functions such as _update_step_xla, lstm_cell_342_layer_call_fn, lstm_cell_342_layer_call_and_return_conditional_losses, lstm_cell_343_layer_call_fn, lstm_cell_343_layer_call_and_return_conditional_losses while saving (showing 5 of 7). These functions will not be directly callable after loading.\n"
     ]
    },
    {
     "name": "stdout",
     "output_type": "stream",
     "text": [
      "INFO:tensorflow:Assets written to: model_experiments/Local/Local_LSTM_F7_H12\\6907-ZE01-74\\assets\n"
     ]
    },
    {
     "name": "stderr",
     "output_type": "stream",
     "text": [
      "INFO:tensorflow:Assets written to: model_experiments/Local/Local_LSTM_F7_H12\\6907-ZE01-74\\assets\n"
     ]
    },
    {
     "name": "stdout",
     "output_type": "stream",
     "text": [
      "575/575 [==============================] - 105s 177ms/step - loss: 0.0320 - root_mean_squared_error: 0.1789 - mean_absolute_percentage_error: 40454040.0000 - mean_absolute_error: 0.1291 - val_loss: 0.0364 - val_root_mean_squared_error: 0.1908 - val_mean_absolute_percentage_error: 33836520.0000 - val_mean_absolute_error: 0.1543\n",
      "82/82 [==============================] - 5s 52ms/step - loss: 0.0347 - root_mean_squared_error: 0.1864 - mean_absolute_percentage_error: 36275436.0000 - mean_absolute_error: 0.1590\n",
      "570/575 [============================>.] - ETA: 0s - loss: 0.0346 - root_mean_squared_error: 0.1861 - mean_absolute_percentage_error: 40843364.0000 - mean_absolute_error: 0.1362"
     ]
    },
    {
     "name": "stderr",
     "output_type": "stream",
     "text": [
      "WARNING:absl:Function `_wrapped_model` contains input name(s) Input with unsupported characters which will be renamed to input in the SavedModel.\n",
      "WARNING:absl:Found untraced functions such as _jit_compiled_convolution_op, _update_step_xla while saving (showing 2 of 2). These functions will not be directly callable after loading.\n"
     ]
    },
    {
     "name": "stdout",
     "output_type": "stream",
     "text": [
      "INFO:tensorflow:Assets written to: model_experiments/Local/Local_CNN_F7_H12\\6907-ZE01-74\\assets\n"
     ]
    },
    {
     "name": "stderr",
     "output_type": "stream",
     "text": [
      "INFO:tensorflow:Assets written to: model_experiments/Local/Local_CNN_F7_H12\\6907-ZE01-74\\assets\n"
     ]
    },
    {
     "name": "stdout",
     "output_type": "stream",
     "text": [
      "575/575 [==============================] - 5s 7ms/step - loss: 0.0346 - root_mean_squared_error: 0.1860 - mean_absolute_percentage_error: 40866552.0000 - mean_absolute_error: 0.1363 - val_loss: 0.0448 - val_root_mean_squared_error: 0.2117 - val_mean_absolute_percentage_error: 31139750.0000 - val_mean_absolute_error: 0.1740\n",
      "82/82 [==============================] - 0s 2ms/step - loss: 0.0386 - root_mean_squared_error: 0.1964 - mean_absolute_percentage_error: 35028256.0000 - mean_absolute_error: 0.1688\n",
      "574/575 [============================>.] - ETA: 0s - loss: 0.0347 - root_mean_squared_error: 0.1864 - mean_absolute_percentage_error: 41131696.0000 - mean_absolute_error: 0.1375"
     ]
    },
    {
     "name": "stderr",
     "output_type": "stream",
     "text": [
      "WARNING:absl:Found untraced functions such as _jit_compiled_convolution_op, _jit_compiled_convolution_op, _update_step_xla, query_layer_call_fn, query_layer_call_and_return_conditional_losses while saving (showing 5 of 15). These functions will not be directly callable after loading.\n"
     ]
    },
    {
     "name": "stdout",
     "output_type": "stream",
     "text": [
      "INFO:tensorflow:Assets written to: model_experiments/Local/Local_Transformer_F7_H12\\6907-ZE01-74\\assets\n"
     ]
    },
    {
     "name": "stderr",
     "output_type": "stream",
     "text": [
      "INFO:tensorflow:Assets written to: model_experiments/Local/Local_Transformer_F7_H12\\6907-ZE01-74\\assets\n"
     ]
    },
    {
     "name": "stdout",
     "output_type": "stream",
     "text": [
      "575/575 [==============================] - 47s 80ms/step - loss: 0.0347 - root_mean_squared_error: 0.1863 - mean_absolute_percentage_error: 41129796.0000 - mean_absolute_error: 0.1375 - val_loss: 0.0391 - val_root_mean_squared_error: 0.1978 - val_mean_absolute_percentage_error: 33294942.0000 - val_mean_absolute_error: 0.1617\n",
      "82/82 [==============================] - 2s 23ms/step - loss: 0.0369 - root_mean_squared_error: 0.1921 - mean_absolute_percentage_error: 36155700.0000 - mean_absolute_error: 0.1631\n"
     ]
    }
   ],
   "source": [
    "#windows_dict[smart_meter_names][0-3] \n",
    "#    -> 0:window_F5_H12 , 1:window_F5_H24 , 2:window_F7_H12 , 3:window_F7_H24\n",
    "forecasts_dict_LSTM_F7_H12 = {}\n",
    "forecasts_dict_CNN_F7_H12 = {}\n",
    "forecasts_dict_Transformer_F7_H12 = {}\n",
    "\n",
    "for idx, client in enumerate(smart_meter_names):\n",
    "    IPython.display.clear_output()\n",
    "    print(\"-----------------------\", idx, \"/32\")\n",
    "    \n",
    "    #LSTM\n",
    "    history = compile_and_fit(multi_lstm_model, windows_dict[client][2], model_name='Local_LSTM_F7_H12', client_name=client, MAX_EPOCHS=MAX_EPOCHS)\n",
    "    #Load best model\n",
    "    model = tf.keras.models.load_model(f\"model_experiments/Local/Local_LSTM_F7_H12/{client}\")\n",
    "    model_evaluation_test = model.evaluate(windows_dict[client][2].test)\n",
    "    #Save results\n",
    "    forecasts_dict_LSTM_F7_H12[client] = {\n",
    "        'MSE':model_evaluation_test[0], 'RMSE':model_evaluation_test[1], 'MAPE':model_evaluation_test[2],\n",
    "        'MAE':model_evaluation_test[3], 'Time':((timetaken.logs[-1][1]) / (timetaken.logs[-1][0]+1))                              \n",
    "                             }\n",
    "    \n",
    "    #CNN\n",
    "    history = compile_and_fit(multi_conv_model, windows_dict[client][2], model_name='Local_CNN_F7_H12', client_name=client, MAX_EPOCHS=MAX_EPOCHS)\n",
    "    #Load best model\n",
    "    model = tf.keras.models.load_model(f\"model_experiments/Local/Local_CNN_F7_H12/{client}\")\n",
    "    model_evaluation_test = model.evaluate(windows_dict[client][2].test)\n",
    "    #Save results\n",
    "    forecasts_dict_CNN_F7_H12[client] = {\n",
    "        'MSE':model_evaluation_test[0], 'RMSE':model_evaluation_test[1], 'MAPE':model_evaluation_test[2],\n",
    "        'MAE':model_evaluation_test[3], 'Time':((timetaken.logs[-1][1]) / (timetaken.logs[-1][0]+1))                              \n",
    "                             }\n",
    "    \n",
    "    #Transformer\n",
    "    history = compile_and_fit(multi_transformer_model, windows_dict[client][2], model_name='Local_Transformer_F7_H12', client_name=client, MAX_EPOCHS=MAX_EPOCHS)\n",
    "    #Load best model\n",
    "    model = tf.keras.models.load_model(f\"model_experiments/Local/Local_Transformer_F7_H12/{client}\")\n",
    "    model_evaluation_test = model.evaluate(windows_dict[client][2].test)\n",
    "    #Save results\n",
    "    forecasts_dict_Transformer_F7_H12[client] = {\n",
    "        'MSE':model_evaluation_test[0], 'RMSE':model_evaluation_test[1], 'MAPE':model_evaluation_test[2],\n",
    "        'MAE':model_evaluation_test[3], 'Time':((timetaken.logs[-1][1]) / (timetaken.logs[-1][0]+1))                              \n",
    "                             }\n",
    "    \n",
    "final_dict['Local']['LSTM']['H12']['F7'] = forecasts_dict_LSTM_F7_H12\n",
    "final_dict['Local']['CNN']['H12']['F7'] = forecasts_dict_CNN_F7_H12\n",
    "final_dict['Local']['Transformer']['H12']['F7'] = forecasts_dict_Transformer_F7_H12"
   ]
  },
  {
   "cell_type": "markdown",
   "id": "a2acece4",
   "metadata": {},
   "source": [
    "### Features 7, Horizon 24"
   ]
  },
  {
   "cell_type": "code",
   "execution_count": 85,
   "id": "b051bd9b",
   "metadata": {},
   "outputs": [],
   "source": [
    "#Build Models\n",
    "multi_lstm_model = build_LSTM_model(\n",
    "    input_shape = INPUT_SHAPE[1], \n",
    "    num_LSTM_cells = NUM_LSTM_CELLS,\n",
    "    num_LSTM_layers = NUM_LSTM_LAYERS,\n",
    "    num_LSTM_dense_layers = NUM_LSTM_DENSE_LAYERS,\n",
    "    num_LSTM_dense_units = NUM_LSTM_DENSE_UNITS,\n",
    "    LSTM_dropout = LSTM_DROPOUT,\n",
    "    output_steps = OUT_STEPS[1],\n",
    "    num_features = NUM_FEATURES[1],\n",
    "    model_name = 'Local_LSTM_F7_H24'\n",
    ")\n",
    "multi_conv_model = build_CNN_model(\n",
    "    input_shape = INPUT_SHAPE[1], \n",
    "    conv_width = CONV_WIDTH,\n",
    "    num_CNN_layers = NUM_CNN_LAYERS,\n",
    "    num_CNN_filters = NUM_CNN_FILTERS,\n",
    "    num_CNN_dense_layers = NUM_CNN_DENSE_LAYERS,\n",
    "    num_CNN_dense_units = NUM_CNN_DENSE_UNITS,\n",
    "    CNN_dropout = CNN_DROPOUT,\n",
    "    output_steps = OUT_STEPS[1],\n",
    "    num_features = NUM_FEATURES[1],\n",
    "    model_name = 'Local_CNN_F7_H24'\n",
    ")\n",
    "#Transformer\n",
    "multi_transformer_model = build_transformer_model(\n",
    "    input_shape = INPUT_SHAPE[1],\n",
    "    head_size=TRANSFORMER_HEAD_SIZE,\n",
    "    num_heads=TRANSFORMER_NUM_HEADS,\n",
    "    ff_dim=TRANSFORMER_FF_DIM,\n",
    "    num_transformer_blocks=NUM_TRANSFORMER_BLOCKS,\n",
    "    mlp_units=[TRANSFORMER_MLP_UNITS],\n",
    "    mlp_dropout=TRANSFORMER_MLP_DROPOUT,\n",
    "    dropout=TRANSFORMER_DROPOUT,\n",
    "    out_steps = OUT_STEPS[1],\n",
    "    num_features = NUM_FEATURES[1],\n",
    "    model_name = 'Local_Transformer_F7_H24'    \n",
    ")"
   ]
  },
  {
   "cell_type": "code",
   "execution_count": 86,
   "id": "f57083d3",
   "metadata": {},
   "outputs": [
    {
     "name": "stdout",
     "output_type": "stream",
     "text": [
      "----------------------- 32 /32\n",
      "574/574 [==============================] - ETA: 0s - loss: 0.0361 - root_mean_squared_error: 0.1901 - mean_absolute_percentage_error: 40855784.0000 - mean_absolute_error: 0.1421"
     ]
    },
    {
     "name": "stderr",
     "output_type": "stream",
     "text": [
      "WARNING:absl:Function `_wrapped_model` contains input name(s) Input with unsupported characters which will be renamed to input in the SavedModel.\n",
      "WARNING:absl:Found untraced functions such as _update_step_xla, lstm_cell_444_layer_call_fn, lstm_cell_444_layer_call_and_return_conditional_losses, lstm_cell_445_layer_call_fn, lstm_cell_445_layer_call_and_return_conditional_losses while saving (showing 5 of 7). These functions will not be directly callable after loading.\n"
     ]
    },
    {
     "name": "stdout",
     "output_type": "stream",
     "text": [
      "INFO:tensorflow:Assets written to: model_experiments/Local/Local_LSTM_F7_H24\\6907-ZE01-74\\assets\n"
     ]
    },
    {
     "name": "stderr",
     "output_type": "stream",
     "text": [
      "INFO:tensorflow:Assets written to: model_experiments/Local/Local_LSTM_F7_H24\\6907-ZE01-74\\assets\n"
     ]
    },
    {
     "name": "stdout",
     "output_type": "stream",
     "text": [
      "574/574 [==============================] - 116s 198ms/step - loss: 0.0361 - root_mean_squared_error: 0.1901 - mean_absolute_percentage_error: 40855784.0000 - mean_absolute_error: 0.1421 - val_loss: 0.0408 - val_root_mean_squared_error: 0.2020 - val_mean_absolute_percentage_error: 32874870.0000 - val_mean_absolute_error: 0.1649\n",
      "81/81 [==============================] - 6s 61ms/step - loss: 0.0375 - root_mean_squared_error: 0.1937 - mean_absolute_percentage_error: 35436364.0000 - mean_absolute_error: 0.1650\n",
      "570/574 [============================>.] - ETA: 0s - loss: 0.0386 - root_mean_squared_error: 0.1965 - mean_absolute_percentage_error: 40561624.0000 - mean_absolute_error: 0.1483"
     ]
    },
    {
     "name": "stderr",
     "output_type": "stream",
     "text": [
      "WARNING:absl:Function `_wrapped_model` contains input name(s) Input with unsupported characters which will be renamed to input in the SavedModel.\n",
      "WARNING:absl:Found untraced functions such as _jit_compiled_convolution_op, _update_step_xla while saving (showing 2 of 2). These functions will not be directly callable after loading.\n"
     ]
    },
    {
     "name": "stdout",
     "output_type": "stream",
     "text": [
      "INFO:tensorflow:Assets written to: model_experiments/Local/Local_CNN_F7_H24\\6907-ZE01-74\\assets\n"
     ]
    },
    {
     "name": "stderr",
     "output_type": "stream",
     "text": [
      "INFO:tensorflow:Assets written to: model_experiments/Local/Local_CNN_F7_H24\\6907-ZE01-74\\assets\n"
     ]
    },
    {
     "name": "stdout",
     "output_type": "stream",
     "text": [
      "574/574 [==============================] - 7s 12ms/step - loss: 0.0386 - root_mean_squared_error: 0.1965 - mean_absolute_percentage_error: 40600740.0000 - mean_absolute_error: 0.1484 - val_loss: 0.0445 - val_root_mean_squared_error: 0.2110 - val_mean_absolute_percentage_error: 32688172.0000 - val_mean_absolute_error: 0.1731\n",
      "81/81 [==============================] - 0s 4ms/step - loss: 0.0393 - root_mean_squared_error: 0.1982 - mean_absolute_percentage_error: 35659716.0000 - mean_absolute_error: 0.1681\n",
      "574/574 [==============================] - ETA: 0s - loss: 0.0369 - root_mean_squared_error: 0.1920 - mean_absolute_percentage_error: 41121532.0000 - mean_absolute_error: 0.1436"
     ]
    },
    {
     "name": "stderr",
     "output_type": "stream",
     "text": [
      "WARNING:absl:Found untraced functions such as _jit_compiled_convolution_op, _jit_compiled_convolution_op, _update_step_xla, query_layer_call_fn, query_layer_call_and_return_conditional_losses while saving (showing 5 of 15). These functions will not be directly callable after loading.\n"
     ]
    },
    {
     "name": "stdout",
     "output_type": "stream",
     "text": [
      "INFO:tensorflow:Assets written to: model_experiments/Local/Local_Transformer_F7_H24\\6907-ZE01-74\\assets\n"
     ]
    },
    {
     "name": "stderr",
     "output_type": "stream",
     "text": [
      "INFO:tensorflow:Assets written to: model_experiments/Local/Local_Transformer_F7_H24\\6907-ZE01-74\\assets\n"
     ]
    },
    {
     "name": "stdout",
     "output_type": "stream",
     "text": [
      "574/574 [==============================] - 59s 100ms/step - loss: 0.0369 - root_mean_squared_error: 0.1920 - mean_absolute_percentage_error: 41121532.0000 - mean_absolute_error: 0.1436 - val_loss: 0.0419 - val_root_mean_squared_error: 0.2048 - val_mean_absolute_percentage_error: 33619420.0000 - val_mean_absolute_error: 0.1669\n",
      "81/81 [==============================] - 3s 29ms/step - loss: 0.0382 - root_mean_squared_error: 0.1954 - mean_absolute_percentage_error: 35927888.0000 - mean_absolute_error: 0.1646\n"
     ]
    }
   ],
   "source": [
    "#windows_dict[smart_meter_names][0-3] \n",
    "#    -> 0:window_F5_H12 , 1:window_F5_H24 , 2:window_F7_H12 , 3:window_F7_H24\n",
    "forecasts_dict_LSTM_F7_H24 = {}\n",
    "forecasts_dict_CNN_F7_H24 = {}\n",
    "forecasts_dict_Transformer_F7_H24 = {}\n",
    "\n",
    "for idx, client in enumerate(smart_meter_names):\n",
    "    IPython.display.clear_output()\n",
    "    print(\"-----------------------\", idx, \"/32\")\n",
    "    \n",
    "    #LSTM\n",
    "    history = compile_and_fit(multi_lstm_model, windows_dict[client][3], model_name='Local_LSTM_F7_H24', client_name=client, MAX_EPOCHS=MAX_EPOCHS)\n",
    "    #Load best model\n",
    "    model = tf.keras.models.load_model(f\"model_experiments/Local/Local_LSTM_F7_H24/{client}\")\n",
    "    model_evaluation_test = model.evaluate(windows_dict[client][3].test)\n",
    "    #Save results\n",
    "    forecasts_dict_LSTM_F7_H24[client] = {\n",
    "        'MSE':model_evaluation_test[0], 'RMSE':model_evaluation_test[1], 'MAPE':model_evaluation_test[2],\n",
    "        'MAE':model_evaluation_test[3], 'Time':((timetaken.logs[-1][1]) / (timetaken.logs[-1][0]+1))                              \n",
    "                             }\n",
    "    \n",
    "    #CNN\n",
    "    history = compile_and_fit(multi_conv_model, windows_dict[client][3], model_name='Local_CNN_F7_H24', client_name=client, MAX_EPOCHS=MAX_EPOCHS)\n",
    "    #Load best model\n",
    "    model = tf.keras.models.load_model(f\"model_experiments/Local/Local_CNN_F7_H24/{client}\")\n",
    "    model_evaluation_test = model.evaluate(windows_dict[client][3].test)\n",
    "    #Save results\n",
    "    forecasts_dict_CNN_F7_H24[client] = {\n",
    "        'MSE':model_evaluation_test[0], 'RMSE':model_evaluation_test[1], 'MAPE':model_evaluation_test[2],\n",
    "        'MAE':model_evaluation_test[3], 'Time':((timetaken.logs[-1][1]) / (timetaken.logs[-1][0]+1))                              \n",
    "                             }\n",
    "    \n",
    "    #Transformer\n",
    "    history = compile_and_fit(multi_transformer_model, windows_dict[client][3], model_name='Local_Transformer_F7_H24', client_name=client, MAX_EPOCHS=MAX_EPOCHS)\n",
    "    #Load best model\n",
    "    model = tf.keras.models.load_model(f\"model_experiments/Local/Local_Transformer_F7_H24/{client}\")\n",
    "    model_evaluation_test = model.evaluate(windows_dict[client][3].test)\n",
    "    #Save results\n",
    "    forecasts_dict_Transformer_F7_H24[client] = {\n",
    "        'MSE':model_evaluation_test[0], 'RMSE':model_evaluation_test[1], 'MAPE':model_evaluation_test[2],\n",
    "        'MAE':model_evaluation_test[3], 'Time':((timetaken.logs[-1][1]) / (timetaken.logs[-1][0]+1))                              \n",
    "                             }\n",
    "    \n",
    "final_dict['Local']['LSTM']['H24']['F7'] = forecasts_dict_LSTM_F7_H24\n",
    "final_dict['Local']['CNN']['H24']['F7'] = forecasts_dict_CNN_F7_H24\n",
    "final_dict['Local']['Transformer']['H24']['F7'] = forecasts_dict_Transformer_F7_H24"
   ]
  },
  {
   "cell_type": "markdown",
   "id": "a97e21f8",
   "metadata": {},
   "source": [
    "# Evaluation"
   ]
  },
  {
   "cell_type": "code",
   "execution_count": 89,
   "id": "07ebafe5",
   "metadata": {},
   "outputs": [
    {
     "data": {
      "text/plain": [
       "{'MSE': 0.019874952733516693,\n",
       " 'RMSE': 0.14097857475280762,\n",
       " 'MAPE': 68598168.0,\n",
       " 'MAE': 0.11403103917837143,\n",
       " 'Time': 99.57683070003986}"
      ]
     },
     "execution_count": 89,
     "metadata": {},
     "output_type": "execute_result"
    }
   ],
   "source": [
    "final_dict['Local']['LSTM']['H24']['F7']['0101-ZE01-70']"
   ]
  },
  {
   "cell_type": "code",
   "execution_count": 90,
   "id": "12a50d5a",
   "metadata": {},
   "outputs": [],
   "source": [
    "import pickle \n",
    "with open('Dictionaries_Results/Local_results.pkl', 'wb') as f:\n",
    "    pickle.dump(final_dict, f)"
   ]
  },
  {
   "cell_type": "code",
   "execution_count": 91,
   "id": "52d48287",
   "metadata": {},
   "outputs": [],
   "source": [
    "with open('Dictionaries_Results/Local_results.pkl', 'rb') as f:\n",
    "    loaded_dict = pickle.load(f)\n",
    "#loaded_dict"
   ]
  }
 ],
 "metadata": {
  "kernelspec": {
   "display_name": "Python 3 (ipykernel)",
   "language": "python",
   "name": "python3"
  },
  "language_info": {
   "codemirror_mode": {
    "name": "ipython",
    "version": 3
   },
   "file_extension": ".py",
   "mimetype": "text/x-python",
   "name": "python",
   "nbconvert_exporter": "python",
   "pygments_lexer": "ipython3",
   "version": "3.10.5"
  }
 },
 "nbformat": 4,
 "nbformat_minor": 5
}
