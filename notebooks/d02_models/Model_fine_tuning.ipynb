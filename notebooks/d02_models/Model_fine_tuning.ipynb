{
 "cells": [
  {
   "cell_type": "code",
   "execution_count": 56,
   "id": "8b58f0af",
   "metadata": {},
   "outputs": [],
   "source": [
    "#Imports\n",
    "\n",
    "#Pandas: Reading and analyzing data\n",
    "import pandas as pd\n",
    "#Numerical calcuations\n",
    "import numpy as np\n",
    "#statistical data visualization\n",
    "import seaborn as sns\n",
    "#Use Dates in Datetime Format\n",
    "import datetime\n",
    "#Tensorflow\n",
    "import tensorflow as tf\n",
    "#Keras: Open-Source deep-learning library \n",
    "from tensorflow import keras\n",
    "#Building blocks of NN in Keras\n",
    "from tensorflow.keras import layers\n",
    "#EarlyStop to stop training early\n",
    "from tensorflow.keras.callbacks import EarlyStopping\n",
    "#Functional API: Layers for different models\n",
    "from keras.layers import Dense, LSTM, Dropout\n",
    "#Normalization\n",
    "from sklearn.preprocessing import MinMaxScaler\n",
    "#Standardization\n",
    "from sklearn.preprocessing import StandardScaler\n",
    "#Evaluate models\n",
    "import math\n",
    "#Evaluate MSE\n",
    "from sklearn.metrics import mean_squared_error\n",
    "#plot numpy array\n",
    "import matplotlib.pyplot as plt\n",
    "#Create Folder for modelling checkpoint\n",
    "import os\n",
    "#Callback to logg model fitting time\n",
    "import time\n",
    "from timeit import default_timer as timer\n",
    "#Clear output after training\n",
    "import IPython\n",
    "import IPython.display\n",
    "#Normalization\n",
    "from sklearn.preprocessing import MinMaxScaler\n",
    "#Standardization\n",
    "from sklearn.preprocessing import StandardScaler\n",
    "\n",
    "#Helper Class (Export Notebook as .py)\n",
    "from windowgenerator import WindowGenerator"
   ]
  },
  {
   "cell_type": "markdown",
   "id": "2e5f2642",
   "metadata": {},
   "source": [
    "# Heper functions"
   ]
  },
  {
   "cell_type": "code",
   "execution_count": 23,
   "id": "cb41e19d",
   "metadata": {},
   "outputs": [],
   "source": [
    "# Create a function to implement a ModelCheckpoint callback with a specific filename \n",
    "\n",
    "def create_model_checkpoint(model_name, save_path):\n",
    "    return tf.keras.callbacks.ModelCheckpoint(\n",
    "        filepath=os.path.join(save_path), # create filepath to save model\n",
    "        verbose=0, # only output a limited amount of text\n",
    "        save_best_only=True) # save only the best model to file\n",
    "\n",
    "#Helper function for time callback to log training time per epoch\n",
    "class timecallback(tf.keras.callbacks.Callback):\n",
    "    def __init__(self, logs={}):\n",
    "        self.logs=[]\n",
    "    def on_epoch_begin(self, epoch, logs={}):\n",
    "        self.starttime = timer()\n",
    "    def on_epoch_end(self, epoch, logs={}):\n",
    "        self.logs.append((epoch, timer()-self.starttime))\n",
    "        \n",
    "timetaken = timecallback()\n",
    "\n",
    "def compile_and_fit(model, window, model_name, client_name, MAX_EPOCHS, patience=2):\n",
    "    early_stopping = tf.keras.callbacks.EarlyStopping(monitor='val_loss',\n",
    "                                                    patience=patience,\n",
    "                                                    mode='min')\n",
    "\n",
    "    model.compile(loss=tf.keras.losses.MeanSquaredError(),\n",
    "                optimizer=tf.keras.optimizers.Adam(),\n",
    "                metrics=[\n",
    "                    tf.keras.metrics.RootMeanSquaredError(), \n",
    "                    tf.keras.metrics.MeanAbsolutePercentageError(),\n",
    "                    tf.keras.metrics.MeanAbsoluteError(),\n",
    "                ])\n",
    "\n",
    "    history = model.fit(window.train, epochs=MAX_EPOCHS,\n",
    "                      validation_data=window.val,\n",
    "                      callbacks=[early_stopping, create_model_checkpoint(\n",
    "                          model_name=model.name, \n",
    "                          save_path=f\"model_experiments/FineTune/{model_name}/{client_name}\"\n",
    "                      ), timetaken])\n",
    "    \n",
    "    return history"
   ]
  },
  {
   "cell_type": "code",
   "execution_count": 19,
   "id": "8603f07f",
   "metadata": {},
   "outputs": [],
   "source": [
    "def build_LSTM_model(\n",
    "    input_shape, num_LSTM_cells, num_LSTM_layers, num_LSTM_dense_layers, num_LSTM_dense_units, LSTM_dropout,\n",
    "    output_steps, num_features, model_name\n",
    "):\n",
    "   #Input dimensions are (N x n_past x #features)\n",
    "    inputs = keras.Input(shape=input_shape, name=\"Input\")\n",
    "    #Hidden LSTM Layers\n",
    "    x = layers.LSTM(num_LSTM_cells, return_sequences=True)(inputs)\n",
    "\n",
    "    for _ in range(num_LSTM_layers):\n",
    "        x = layers.LSTM(num_LSTM_cells, return_sequences=True)(x)\n",
    "\n",
    "    x = layers.LSTM(num_LSTM_cells, return_sequences=False)(x)\n",
    "\n",
    "    #Dropout and Dense Layers\n",
    "    for _ in range(num_LSTM_dense_layers):\n",
    "        x = layers.Dense(num_LSTM_dense_units, activation=\"relu\")(x)\n",
    "    x = layers.Dropout(LSTM_dropout)(x)\n",
    "\n",
    "    #Output\n",
    "    x = layers.Dense(output_steps*num_features, kernel_initializer=tf.initializers.zeros())(x)\n",
    "    outputs = layers.Reshape([output_steps, num_features])(x)\n",
    "    \n",
    "    multi_lstm_model = keras.Model(inputs=inputs, outputs=outputs, name=model_name)\n",
    "\n",
    "    return multi_lstm_model\n",
    "\n",
    "def build_CNN_model(\n",
    "    input_shape, conv_width, num_CNN_layers, num_CNN_filters, num_CNN_dense_layers, \n",
    "    num_CNN_dense_units, CNN_dropout, output_steps, num_features, model_name\n",
    "):\n",
    "   #Input dimensions are (N x n_past x #features)\n",
    "    inputs = keras.Input(shape=input_shape, name=\"Input\")\n",
    "    #Hidden LSTM Layers\n",
    "    x = layers.Lambda(lambda x: x[:, -conv_width:, :])(inputs)\n",
    "\n",
    "    for _ in range(num_CNN_layers):\n",
    "        x = layers.Conv1D(num_CNN_filters, kernel_size=(conv_width), activation='relu', padding=\"same\")(x)\n",
    "        x = layers.BatchNormalization()(x)\n",
    "        #x = layers.ReLU()(x)\n",
    "        \n",
    "    x = layers.GlobalAveragePooling1D()(x)\n",
    "    \n",
    "    for _ in range(num_CNN_dense_layers):\n",
    "        x = layers.Dense(num_CNN_dense_units, activation=\"relu\")(x)\n",
    "    \n",
    "    x = layers.Dropout(CNN_dropout)(x)\n",
    "    x = layers.Dense(output_steps*num_features, kernel_initializer=tf.initializers.zeros())(x)\n",
    "    outputs = layers.Reshape([output_steps, num_features])(x)\n",
    "    #Create model\n",
    "    multi_conv_model = keras.Model(inputs=inputs, outputs=outputs, name=model_name)\n",
    "\n",
    "    return multi_conv_model\n",
    "\n",
    "def build_transformer_model(input_shape, output_steps, num_features, model_name):\n",
    "    \n",
    "    encoder_inputs = keras.layers.Input(shape=input_shape)\n",
    "\n",
    "    #ENCODER\n",
    "    #Encoder Layer 1\n",
    "    x = keras.layers.MultiHeadAttention(key_dim=4, num_heads=2, dropout=0.2)(encoder_inputs, encoder_inputs)\n",
    "    res1 = x + encoder_inputs #Add\n",
    "    x = keras.layers.Dense(input_shape[1], activation='relu')(x) # Feed Forward Part\n",
    "    res2 = x + res1 #Add\n",
    "    x_out = keras.layers.LayerNormalization(epsilon=1e-6)(res2) #Norm\n",
    "\n",
    "\n",
    "    #Encoder Layer 2\n",
    "    x = keras.layers.MultiHeadAttention(key_dim=4, num_heads=2, dropout=0.2)(x_out, x_out)\n",
    "    res1 = x + x_out #Add\n",
    "    x = keras.layers.Dense(input_shape[1], activation='relu')(x) # Feed Forward Part\n",
    "    res2 = x + res1 #Add\n",
    "    x_out = keras.layers.LayerNormalization(epsilon=1e-6)(res2) #Norm\n",
    "\n",
    "    encoder = keras.layers.LSTM(7, return_state=True)\n",
    "    encoder_outputs_and_states = encoder(x_out)\n",
    "    encoder_states = encoder_outputs_and_states[1:]\n",
    "    #-----------------------------------------------------------------------------------------\n",
    "    decoder_inputs = encoder_inputs\n",
    "\n",
    "    #DECODER\n",
    "    #Decoder Layer 1\n",
    "    x = keras.layers.MultiHeadAttention(key_dim=4, num_heads=2, dropout=0.2)(decoder_inputs, decoder_inputs)\n",
    "    res1 = x + decoder_inputs #Add\n",
    "    x = keras.layers.Dense(input_shape[1], activation='relu')(x) # Feed Forward Part\n",
    "    res2 = x + res1 #Add\n",
    "    x_out = keras.layers.LayerNormalization(epsilon=1e-6)(res2) #Norm\n",
    "\n",
    "    decoder = keras.layers.LSTM(7, return_state=True, return_sequences=True)\n",
    "    decoder_outputs_and_states = decoder(x_out, initial_state=encoder_states)\n",
    "    decoder_outputs = decoder_outputs_and_states[0] # Only select the output of the decoder (not the states)\n",
    "\n",
    "    #Decoder Layer 2\n",
    "    x = keras.layers.MultiHeadAttention(key_dim=4, num_heads=2, dropout=0.2)(decoder_outputs, x_out)\n",
    "    res1 = x + decoder_outputs #Add\n",
    "    x = keras.layers.Dense(input_shape[1], activation='relu')(x) # Feed Forward Part\n",
    "    res2 = x + res1 #Add\n",
    "    x_out = keras.layers.LayerNormalization(epsilon=1e-6)(res2) #Norm\n",
    "\n",
    "    decoder = keras.layers.LSTM(7, return_state=True, return_sequences=True)\n",
    "    decoder_outputs_and_states = decoder(x_out, initial_state=encoder_states)\n",
    "    decoder_outputs = decoder_outputs_and_states[0] # Only select the output of the decoder (not the states)\n",
    "\n",
    "\n",
    "    #Feedforward\n",
    "    x = keras.layers.GlobalAveragePooling1D(data_format=\"channels_first\")(decoder_outputs)\n",
    "    x = keras.layers.Dense(output_steps*num_features, kernel_initializer=tf.initializers.zeros())(x)\n",
    "    outputs = keras.layers.Reshape([output_steps, num_features])(x)\n",
    "\n",
    "    return keras.models.Model(inputs=encoder_inputs, outputs=outputs, name='model_name') "
   ]
  },
  {
   "cell_type": "markdown",
   "id": "58431a9c",
   "metadata": {},
   "source": [
    "# Data"
   ]
  },
  {
   "cell_type": "code",
   "execution_count": 36,
   "id": "0b689aa8",
   "metadata": {},
   "outputs": [
    {
     "name": "stdout",
     "output_type": "stream",
     "text": [
      "3\n"
     ]
    },
    {
     "data": {
      "text/html": [
       "<div>\n",
       "<style scoped>\n",
       "    .dataframe tbody tr th:only-of-type {\n",
       "        vertical-align: middle;\n",
       "    }\n",
       "\n",
       "    .dataframe tbody tr th {\n",
       "        vertical-align: top;\n",
       "    }\n",
       "\n",
       "    .dataframe thead th {\n",
       "        text-align: right;\n",
       "    }\n",
       "</style>\n",
       "<table border=\"1\" class=\"dataframe\">\n",
       "  <thead>\n",
       "    <tr style=\"text-align: right;\">\n",
       "      <th></th>\n",
       "      <th>temp</th>\n",
       "      <th>rhum</th>\n",
       "      <th>0101-ZE01-70</th>\n",
       "      <th>0101-ZE01-74</th>\n",
       "      <th>0141-ZE01-70</th>\n",
       "      <th>0141-ZE01-74</th>\n",
       "      <th>0145-ZE02-70</th>\n",
       "      <th>0213-ZE01-71</th>\n",
       "      <th>0223-ZE01-71</th>\n",
       "      <th>0223-ZE02-71</th>\n",
       "      <th>...</th>\n",
       "      <th>0430-ZE01-70</th>\n",
       "      <th>0439-ZE01-70</th>\n",
       "      <th>0439-ZE01-72</th>\n",
       "      <th>0439-ZE02-70</th>\n",
       "      <th>5311-ZE01-70</th>\n",
       "      <th>6907-ZE01-74</th>\n",
       "      <th>hour sin</th>\n",
       "      <th>hour cos</th>\n",
       "      <th>dayofweek sin</th>\n",
       "      <th>dayofweek cos</th>\n",
       "    </tr>\n",
       "    <tr>\n",
       "      <th>Date</th>\n",
       "      <th></th>\n",
       "      <th></th>\n",
       "      <th></th>\n",
       "      <th></th>\n",
       "      <th></th>\n",
       "      <th></th>\n",
       "      <th></th>\n",
       "      <th></th>\n",
       "      <th></th>\n",
       "      <th></th>\n",
       "      <th></th>\n",
       "      <th></th>\n",
       "      <th></th>\n",
       "      <th></th>\n",
       "      <th></th>\n",
       "      <th></th>\n",
       "      <th></th>\n",
       "      <th></th>\n",
       "      <th></th>\n",
       "      <th></th>\n",
       "      <th></th>\n",
       "    </tr>\n",
       "  </thead>\n",
       "  <tbody>\n",
       "    <tr>\n",
       "      <th>2019-01-01</th>\n",
       "      <td>0.325866</td>\n",
       "      <td>0.963855</td>\n",
       "      <td>0.0</td>\n",
       "      <td>0.221036</td>\n",
       "      <td>0.164777</td>\n",
       "      <td>0.164777</td>\n",
       "      <td>0.055199</td>\n",
       "      <td>0.0</td>\n",
       "      <td>0.0</td>\n",
       "      <td>0.324802</td>\n",
       "      <td>...</td>\n",
       "      <td>0.0</td>\n",
       "      <td>0.0</td>\n",
       "      <td>0.0</td>\n",
       "      <td>0.286572</td>\n",
       "      <td>0.0</td>\n",
       "      <td>0.20283</td>\n",
       "      <td>0.692833</td>\n",
       "      <td>0.0</td>\n",
       "      <td>0.012536</td>\n",
       "      <td>0.38874</td>\n",
       "    </tr>\n",
       "  </tbody>\n",
       "</table>\n",
       "<p>1 rows × 39 columns</p>\n",
       "</div>"
      ],
      "text/plain": [
       "                temp      rhum  0101-ZE01-70  0101-ZE01-74  0141-ZE01-70  \\\n",
       "Date                                                                       \n",
       "2019-01-01  0.325866  0.963855           0.0      0.221036      0.164777   \n",
       "\n",
       "            0141-ZE01-74  0145-ZE02-70  0213-ZE01-71  0223-ZE01-71  \\\n",
       "Date                                                                 \n",
       "2019-01-01      0.164777      0.055199           0.0           0.0   \n",
       "\n",
       "            0223-ZE02-71  ...  0430-ZE01-70  0439-ZE01-70  0439-ZE01-72  \\\n",
       "Date                      ...                                             \n",
       "2019-01-01      0.324802  ...           0.0           0.0           0.0   \n",
       "\n",
       "            0439-ZE02-70  5311-ZE01-70  6907-ZE01-74  hour sin  hour cos  \\\n",
       "Date                                                                       \n",
       "2019-01-01      0.286572           0.0       0.20283  0.692833       0.0   \n",
       "\n",
       "            dayofweek sin  dayofweek cos  \n",
       "Date                                      \n",
       "2019-01-01       0.012536        0.38874  \n",
       "\n",
       "[1 rows x 39 columns]"
      ]
     },
     "execution_count": 36,
     "metadata": {},
     "output_type": "execute_result"
    },
    {
     "data": {
      "image/png": "[encoded data removed]",
      "text/plain": [
       "<Figure size 1080x216 with 1 Axes>"
      ]
     },
     "metadata": {
      "needs_background": "light"
     },
     "output_type": "display_data"
    }
   ],
   "source": [
    "#Get Data\n",
    "\n",
    "#Define Path to datafile\n",
    "user = 'rs1044' #'Jonas'\n",
    "filename = '00Data_KIT_2019-01-01_to_2021_12_31.csv'\n",
    "path = 'C:/Users/' + user + '/bwSyncShare/02Python Code/Data/' + filename\n",
    "\n",
    "#1.1 Data collection & Visualization\n",
    "\n",
    "#Read CSV file to pandas dataframe; encoding= 'unicode_escape': Decode from Latin-1 source code. Default UTF-8.\n",
    "df = pd.read_csv(path, encoding= 'unicode_escape', index_col='Date')\n",
    "df.index = pd.to_datetime(df.index)\n",
    "df_feature = df.copy()\n",
    "#Drop columns with insignificant weather features\n",
    "df.drop(columns=['prcp', 'wdir','pres', 'coco','dwpt', 'wpgt','wspd'], axis=1, inplace=True)\n",
    "df['hour'] = df.index.hour\n",
    "df['dayofweek'] = df.index.dayofweek\n",
    "\n",
    "smart_meter_names = df.columns[2:-2][0:3]\n",
    "print(len(smart_meter_names))\n",
    "\n",
    "#Visualize\n",
    "df['0213-ZE01-71'][10000:10500].plot(title=\"KIT load profile from 2019-2021 [kW]\",\n",
    "             figsize=(15,3), \n",
    "             xlabel=\"Time\", \n",
    "             ylabel=\"Load [kW]\",\n",
    "             kind=\"line\"\n",
    "            )\n",
    "\n",
    "#Convert Time String to seconds\n",
    "date_time = pd.to_datetime(df.index, format='%d.%m.%Y %H:%M:%S')\n",
    "timestamp_s = date_time.map(pd.Timestamp.timestamp)\n",
    "\n",
    "#Sine cosine Scaling\n",
    "hour = 60*60\n",
    "df['hour sin'] = np.sin(timestamp_s * (2 * np.pi / hour))\n",
    "df['hour cos'] = np.cos(timestamp_s * (2 * np.pi / hour))\n",
    "df.drop('hour', axis=1, inplace=True)\n",
    "\n",
    "daysinweek = 7*24*60*60\n",
    "df['dayofweek sin'] = np.sin(timestamp_s * (2 * np.pi / daysinweek))\n",
    "df['dayofweek cos'] = np.cos(timestamp_s * (2 * np.pi / daysinweek))\n",
    "df.drop('dayofweek', axis=1, inplace=True)\n",
    "\n",
    "#Min Max Sclaing\n",
    "col_names = df.columns\n",
    "features = df[col_names]\n",
    "\n",
    "scaler = MinMaxScaler().fit(features.values)\n",
    "features = scaler.transform(features.values)\n",
    "df = pd.DataFrame(features, columns = col_names, index=df.index)\n",
    "df.head(1)"
   ]
  },
  {
   "cell_type": "markdown",
   "id": "358408c0",
   "metadata": {},
   "source": [
    "# Forecasting"
   ]
  },
  {
   "cell_type": "code",
   "execution_count": 37,
   "id": "6beb489c",
   "metadata": {},
   "outputs": [],
   "source": [
    "# Create Datasets for the 33 clients and for 5 and 7 features\n",
    "\n",
    "#ds_dict[smart_meter_names][0-5] \n",
    "#    -> 0:train_df_F7, 1: val_df_F7, 2: test_df_F7, 3: train_df_F5, 4: val_df_F5, 5: test_df_F5\n",
    "ds_dict = {}\n",
    "n = len(df)\n",
    "\n",
    "for client in smart_meter_names:\n",
    "    \n",
    "    train_df_F7 = df[0:int(n*0.7)][[client, 'temp', 'rhum', 'hour sin', 'hour cos', 'dayofweek sin', 'dayofweek cos']]\n",
    "    val_df_F7 = df[int(n*0.7):int(n*0.9)][[client, 'temp', 'rhum', 'hour sin', 'hour cos', 'dayofweek sin', 'dayofweek cos']]\n",
    "    test_df_F7 = df[int(n*0.9):][[client, 'temp', 'rhum', 'hour sin', 'hour cos', 'dayofweek sin', 'dayofweek cos']]\n",
    "        \n",
    "    ds_dict[client] = [train_df_F7, val_df_F7, test_df_F7]\n",
    "    "
   ]
  },
  {
   "cell_type": "markdown",
   "id": "60b1424d",
   "metadata": {},
   "source": [
    "# Hyperparameter"
   ]
  },
  {
   "cell_type": "code",
   "execution_count": 38,
   "id": "f33295b9",
   "metadata": {},
   "outputs": [],
   "source": [
    "#ITERATING\n",
    "OUT_STEPS = [12, 24] #Next 12 or 24 hours\n",
    "NUM_FEATURES = [5, 7] # [F_T, F_TW] load_value, hour sin, hour cos, dayofweek sin, dayofweek cos + (temp, rhum)\n",
    "INPUT_STEPS = 24\n",
    "INPUT_SHAPE = [(INPUT_STEPS, NUM_FEATURES[0]), (INPUT_STEPS, NUM_FEATURES[1])]"
   ]
  },
  {
   "cell_type": "markdown",
   "id": "78abc30e",
   "metadata": {},
   "source": [
    "# Windowing"
   ]
  },
  {
   "cell_type": "code",
   "execution_count": 39,
   "id": "87177e10",
   "metadata": {},
   "outputs": [],
   "source": [
    "#ds_dict[smart_meter_names][0-5] \n",
    "#    -> 0: test_df_F7, \n",
    "\n",
    "#windows_dict[smart_meter_names][0-3] \n",
    "#    -> 0:window_F5_H12 , 1:window_F5_H24 , 2:window_F7_H12 , 3:window_F7_H24\n",
    "windows_dict = {}\n",
    "\n",
    "for client in smart_meter_names:\n",
    "    #F7_H24\n",
    "    window_F7_H24 = WindowGenerator(\n",
    "        input_width=INPUT_STEPS, label_width=OUT_STEPS[1], shift=OUT_STEPS[1], \n",
    "        train_df = ds_dict[client][0], val_df = ds_dict[client][1], test_df = ds_dict[client][2], label_columns=[client]\n",
    "    )\n",
    "    example_window = tf.stack([np.array(ds_dict[client][0][10100:10100+window_F7_H24.total_window_size]),\n",
    "                               np.array(ds_dict[client][0][2000:2000+window_F7_H24.total_window_size]),\n",
    "                               np.array(ds_dict[client][0][3000:3000+window_F7_H24.total_window_size])])\n",
    "    example_inputs, example_labels = window_F7_H24.split_window(example_window)\n",
    "    window_F7_H24.example = example_inputs, example_labels\n",
    "    \n",
    "    windows_dict[client] = [window_F7_H24]\n",
    "    "
   ]
  },
  {
   "cell_type": "markdown",
   "id": "7e04af2e",
   "metadata": {},
   "source": [
    "# Model"
   ]
  },
  {
   "cell_type": "code",
   "execution_count": 40,
   "id": "ac571cba",
   "metadata": {},
   "outputs": [],
   "source": [
    "final_dict = {}\n",
    "final_dict['LSTM'] = {}\n",
    "final_dict['CNN'] = {}\n",
    "final_dict['Transformer'] = {}\n"
   ]
  },
  {
   "cell_type": "code",
   "execution_count": 41,
   "id": "18780808",
   "metadata": {},
   "outputs": [],
   "source": [
    "#All models\n",
    "MAX_EPOCHS = 100\n",
    "\n",
    "\n",
    "#LSTM\n",
    "NUM_LSTM_LAYERS = 24         #1, 2, 3, 4, 5, 6\n",
    "NUM_LSTM_CELLS = 1         #16, 32, 64, 128, 256, 512\n",
    "NUM_LSTM_DENSE_LAYERS= 0     #1,2,3\n",
    "NUM_LSTM_DENSE_UNITS = 16   #16,32,64,128\n",
    "LSTM_DROPOUT = 0.2\n",
    "\n",
    "\n",
    "#CNN\n",
    "CONV_WIDTH = 3\n",
    "NUM_CNN_LAYERS = 4\n",
    "NUM_CNN_FILTERS = 32\n",
    "NUM_CNN_DENSE_LAYERS = 1\n",
    "NUM_CNN_DENSE_UNITS = 32\n",
    "CNN_DROPOUT = 0.2"
   ]
  },
  {
   "cell_type": "code",
   "execution_count": 42,
   "id": "3d5324bd",
   "metadata": {},
   "outputs": [],
   "source": [
    "# Set random seed for as reproducible results as possible\n",
    "tf.random.set_seed(42)"
   ]
  },
  {
   "cell_type": "code",
   "execution_count": 43,
   "id": "03479237",
   "metadata": {},
   "outputs": [],
   "source": [
    "#Build Models\n",
    "\n",
    "multi_lstm_model = build_LSTM_model(\n",
    "    input_shape = INPUT_SHAPE[1], \n",
    "    num_LSTM_cells = NUM_LSTM_CELLS,\n",
    "    num_LSTM_layers = NUM_LSTM_LAYERS,\n",
    "    num_LSTM_dense_layers = NUM_LSTM_DENSE_LAYERS,\n",
    "    num_LSTM_dense_units = NUM_LSTM_DENSE_UNITS,\n",
    "    LSTM_dropout = LSTM_DROPOUT,\n",
    "    output_steps = OUT_STEPS[1],\n",
    "    num_features = NUM_FEATURES[1],\n",
    "    model_name = 'LSTM_F7_H24'\n",
    ")\n",
    "\n",
    "multi_conv_model = build_CNN_model(\n",
    "    input_shape = INPUT_SHAPE[1], \n",
    "    conv_width = CONV_WIDTH,\n",
    "    num_CNN_layers = NUM_CNN_LAYERS,\n",
    "    num_CNN_filters = NUM_CNN_FILTERS,\n",
    "    num_CNN_dense_layers = NUM_CNN_DENSE_LAYERS,\n",
    "    num_CNN_dense_units = NUM_CNN_DENSE_UNITS,\n",
    "    CNN_dropout = CNN_DROPOUT,\n",
    "    output_steps = OUT_STEPS[1],\n",
    "    num_features = NUM_FEATURES[1],\n",
    "    model_name = 'CNN_F7_H24'\n",
    ")\n",
    "\n",
    "multi_transformer_model = build_transformer_model(\n",
    "    input_shape = INPUT_SHAPE[1],\n",
    "    output_steps = OUT_STEPS[1],\n",
    "    num_features = NUM_FEATURES[1],\n",
    "    model_name = 'Transformer_F7_H24'    \n",
    ")"
   ]
  },
  {
   "cell_type": "code",
   "execution_count": 45,
   "id": "9a49b41a",
   "metadata": {
    "scrolled": false
   },
   "outputs": [
    {
     "name": "stdout",
     "output_type": "stream",
     "text": [
      "--------------------------------------------------------------------------- 3 /4\n",
      "--------------------------------------------------------------------------- 3 /4\n",
      "--------------------------------------------------------------------------- 3 /4\n",
      "Epoch 1/100\n",
      "574/574 [==============================] - ETA: 0s - loss: 0.0654 - root_mean_squared_error: 0.2557 - mean_absolute_percentage_error: 91535368.0000 - mean_absolute_error: 0.2105"
     ]
    },
    {
     "name": "stderr",
     "output_type": "stream",
     "text": [
      "WARNING:absl:Function `_wrapped_model` contains input name(s) Input with unsupported characters which will be renamed to input in the SavedModel.\n",
      "WARNING:absl:Found untraced functions such as lstm_cell_342_layer_call_fn, lstm_cell_342_layer_call_and_return_conditional_losses, lstm_cell_343_layer_call_fn, lstm_cell_343_layer_call_and_return_conditional_losses, lstm_cell_344_layer_call_fn while saving (showing 5 of 52). These functions will not be directly callable after loading.\n"
     ]
    },
    {
     "name": "stdout",
     "output_type": "stream",
     "text": [
      "INFO:tensorflow:Assets written to: model_experiments/FineTune/LSTM_F7_H24\\0141-ZE01-70\\assets\n"
     ]
    },
    {
     "name": "stderr",
     "output_type": "stream",
     "text": [
      "INFO:tensorflow:Assets written to: model_experiments/FineTune/LSTM_F7_H24\\0141-ZE01-70\\assets\n"
     ]
    },
    {
     "name": "stdout",
     "output_type": "stream",
     "text": [
      "574/574 [==============================] - 192s 299ms/step - loss: 0.0654 - root_mean_squared_error: 0.2557 - mean_absolute_percentage_error: 91535368.0000 - mean_absolute_error: 0.2105 - val_loss: 0.0331 - val_root_mean_squared_error: 0.1820 - val_mean_absolute_percentage_error: 74451464.0000 - val_mean_absolute_error: 0.1553\n",
      "Epoch 2/100\n",
      "574/574 [==============================] - 119s 207ms/step - loss: 0.0655 - root_mean_squared_error: 0.2560 - mean_absolute_percentage_error: 89498200.0000 - mean_absolute_error: 0.2088 - val_loss: 0.0331 - val_root_mean_squared_error: 0.1820 - val_mean_absolute_percentage_error: 74459856.0000 - val_mean_absolute_error: 0.1553\n",
      "Epoch 3/100\n",
      "574/574 [==============================] - 119s 208ms/step - loss: 0.0655 - root_mean_squared_error: 0.2560 - mean_absolute_percentage_error: 89470888.0000 - mean_absolute_error: 0.2088 - val_loss: 0.0331 - val_root_mean_squared_error: 0.1820 - val_mean_absolute_percentage_error: 74479704.0000 - val_mean_absolute_error: 0.1553\n",
      "81/81 [==============================] - 7s 30ms/step - loss: 0.0427 - root_mean_squared_error: 0.2065 - mean_absolute_percentage_error: 101577920.0000 - mean_absolute_error: 0.1812\n",
      "Epoch 1/100\n",
      "571/574 [============================>.] - ETA: 0s - loss: 0.0443 - root_mean_squared_error: 0.2106 - mean_absolute_percentage_error: 69394984.0000 - mean_absolute_error: 0.1625"
     ]
    },
    {
     "name": "stderr",
     "output_type": "stream",
     "text": [
      "WARNING:absl:Function `_wrapped_model` contains input name(s) Input with unsupported characters which will be renamed to input in the SavedModel.\n",
      "WARNING:absl:Found untraced functions such as _jit_compiled_convolution_op, _jit_compiled_convolution_op, _jit_compiled_convolution_op, _jit_compiled_convolution_op while saving (showing 4 of 4). These functions will not be directly callable after loading.\n"
     ]
    },
    {
     "name": "stdout",
     "output_type": "stream",
     "text": [
      "INFO:tensorflow:Assets written to: model_experiments/FineTune/CNN_F7_H24\\0141-ZE01-70\\assets\n"
     ]
    },
    {
     "name": "stderr",
     "output_type": "stream",
     "text": [
      "INFO:tensorflow:Assets written to: model_experiments/FineTune/CNN_F7_H24\\0141-ZE01-70\\assets\n"
     ]
    },
    {
     "name": "stdout",
     "output_type": "stream",
     "text": [
      "574/574 [==============================] - 12s 20ms/step - loss: 0.0442 - root_mean_squared_error: 0.2103 - mean_absolute_percentage_error: 69144912.0000 - mean_absolute_error: 0.1622 - val_loss: 0.0320 - val_root_mean_squared_error: 0.1788 - val_mean_absolute_percentage_error: 79615592.0000 - val_mean_absolute_error: 0.1407\n",
      "Epoch 2/100\n",
      "571/574 [============================>.] - ETA: 0s - loss: 0.0421 - root_mean_squared_error: 0.2053 - mean_absolute_percentage_error: 68086984.0000 - mean_absolute_error: 0.1581"
     ]
    },
    {
     "name": "stderr",
     "output_type": "stream",
     "text": [
      "WARNING:absl:Function `_wrapped_model` contains input name(s) Input with unsupported characters which will be renamed to input in the SavedModel.\n",
      "WARNING:absl:Found untraced functions such as _jit_compiled_convolution_op, _jit_compiled_convolution_op, _jit_compiled_convolution_op, _jit_compiled_convolution_op while saving (showing 4 of 4). These functions will not be directly callable after loading.\n"
     ]
    },
    {
     "name": "stdout",
     "output_type": "stream",
     "text": [
      "INFO:tensorflow:Assets written to: model_experiments/FineTune/CNN_F7_H24\\0141-ZE01-70\\assets\n"
     ]
    },
    {
     "name": "stderr",
     "output_type": "stream",
     "text": [
      "INFO:tensorflow:Assets written to: model_experiments/FineTune/CNN_F7_H24\\0141-ZE01-70\\assets\n"
     ]
    },
    {
     "name": "stdout",
     "output_type": "stream",
     "text": [
      "574/574 [==============================] - 11s 19ms/step - loss: 0.0420 - root_mean_squared_error: 0.2050 - mean_absolute_percentage_error: 67849240.0000 - mean_absolute_error: 0.1578 - val_loss: 0.0318 - val_root_mean_squared_error: 0.1783 - val_mean_absolute_percentage_error: 77968720.0000 - val_mean_absolute_error: 0.1408\n",
      "Epoch 3/100\n",
      "574/574 [==============================] - 10s 17ms/step - loss: 0.0409 - root_mean_squared_error: 0.2022 - mean_absolute_percentage_error: 67293136.0000 - mean_absolute_error: 0.1554 - val_loss: 0.0331 - val_root_mean_squared_error: 0.1820 - val_mean_absolute_percentage_error: 78049888.0000 - val_mean_absolute_error: 0.1437\n",
      "Epoch 4/100\n",
      "574/574 [==============================] - 10s 17ms/step - loss: 0.0401 - root_mean_squared_error: 0.2003 - mean_absolute_percentage_error: 66714528.0000 - mean_absolute_error: 0.1536 - val_loss: 0.0349 - val_root_mean_squared_error: 0.1869 - val_mean_absolute_percentage_error: 79525200.0000 - val_mean_absolute_error: 0.1474\n",
      "81/81 [==============================] - 0s 4ms/step - loss: 0.0386 - root_mean_squared_error: 0.1965 - mean_absolute_percentage_error: 101532904.0000 - mean_absolute_error: 0.1660\n",
      "Epoch 1/100\n",
      "574/574 [==============================] - ETA: 0s - loss: 0.0435 - root_mean_squared_error: 0.2086 - mean_absolute_percentage_error: 68168704.0000 - mean_absolute_error: 0.1633"
     ]
    },
    {
     "name": "stderr",
     "output_type": "stream",
     "text": [
      "WARNING:absl:Found untraced functions such as query_layer_call_fn, query_layer_call_and_return_conditional_losses, key_layer_call_fn, key_layer_call_and_return_conditional_losses, value_layer_call_fn while saving (showing 5 of 54). These functions will not be directly callable after loading.\n"
     ]
    },
    {
     "name": "stdout",
     "output_type": "stream",
     "text": [
      "INFO:tensorflow:Assets written to: model_experiments/FineTune/Transformer_F7_H24\\0141-ZE01-70\\assets\n"
     ]
    },
    {
     "name": "stderr",
     "output_type": "stream",
     "text": [
      "INFO:tensorflow:Assets written to: model_experiments/FineTune/Transformer_F7_H24\\0141-ZE01-70\\assets\n"
     ]
    },
    {
     "name": "stdout",
     "output_type": "stream",
     "text": [
      "574/574 [==============================] - 100s 168ms/step - loss: 0.0435 - root_mean_squared_error: 0.2086 - mean_absolute_percentage_error: 68168704.0000 - mean_absolute_error: 0.1633 - val_loss: 0.0209 - val_root_mean_squared_error: 0.1445 - val_mean_absolute_percentage_error: 55339420.0000 - val_mean_absolute_error: 0.1121\n",
      "Epoch 2/100\n",
      "574/574 [==============================] - ETA: 0s - loss: 0.0415 - root_mean_squared_error: 0.2038 - mean_absolute_percentage_error: 66133584.0000 - mean_absolute_error: 0.1586"
     ]
    },
    {
     "name": "stderr",
     "output_type": "stream",
     "text": [
      "WARNING:absl:Found untraced functions such as query_layer_call_fn, query_layer_call_and_return_conditional_losses, key_layer_call_fn, key_layer_call_and_return_conditional_losses, value_layer_call_fn while saving (showing 5 of 54). These functions will not be directly callable after loading.\n"
     ]
    },
    {
     "name": "stdout",
     "output_type": "stream",
     "text": [
      "INFO:tensorflow:Assets written to: model_experiments/FineTune/Transformer_F7_H24\\0141-ZE01-70\\assets\n"
     ]
    },
    {
     "name": "stderr",
     "output_type": "stream",
     "text": [
      "INFO:tensorflow:Assets written to: model_experiments/FineTune/Transformer_F7_H24\\0141-ZE01-70\\assets\n"
     ]
    },
    {
     "name": "stdout",
     "output_type": "stream",
     "text": [
      "574/574 [==============================] - 94s 163ms/step - loss: 0.0415 - root_mean_squared_error: 0.2038 - mean_absolute_percentage_error: 66133584.0000 - mean_absolute_error: 0.1586 - val_loss: 0.0206 - val_root_mean_squared_error: 0.1436 - val_mean_absolute_percentage_error: 55187936.0000 - val_mean_absolute_error: 0.1110\n",
      "Epoch 3/100\n",
      "574/574 [==============================] - ETA: 0s - loss: 0.0409 - root_mean_squared_error: 0.2023 - mean_absolute_percentage_error: 65536008.0000 - mean_absolute_error: 0.1571"
     ]
    },
    {
     "name": "stderr",
     "output_type": "stream",
     "text": [
      "WARNING:absl:Found untraced functions such as query_layer_call_fn, query_layer_call_and_return_conditional_losses, key_layer_call_fn, key_layer_call_and_return_conditional_losses, value_layer_call_fn while saving (showing 5 of 54). These functions will not be directly callable after loading.\n"
     ]
    },
    {
     "name": "stdout",
     "output_type": "stream",
     "text": [
      "INFO:tensorflow:Assets written to: model_experiments/FineTune/Transformer_F7_H24\\0141-ZE01-70\\assets\n"
     ]
    },
    {
     "name": "stderr",
     "output_type": "stream",
     "text": [
      "INFO:tensorflow:Assets written to: model_experiments/FineTune/Transformer_F7_H24\\0141-ZE01-70\\assets\n"
     ]
    },
    {
     "name": "stdout",
     "output_type": "stream",
     "text": [
      "574/574 [==============================] - 96s 168ms/step - loss: 0.0409 - root_mean_squared_error: 0.2023 - mean_absolute_percentage_error: 65536008.0000 - mean_absolute_error: 0.1571 - val_loss: 0.0205 - val_root_mean_squared_error: 0.1433 - val_mean_absolute_percentage_error: 55491792.0000 - val_mean_absolute_error: 0.1105\n",
      "Epoch 4/100\n",
      "574/574 [==============================] - ETA: 0s - loss: 0.0404 - root_mean_squared_error: 0.2009 - mean_absolute_percentage_error: 65135644.0000 - mean_absolute_error: 0.1557"
     ]
    },
    {
     "name": "stderr",
     "output_type": "stream",
     "text": [
      "WARNING:absl:Found untraced functions such as query_layer_call_fn, query_layer_call_and_return_conditional_losses, key_layer_call_fn, key_layer_call_and_return_conditional_losses, value_layer_call_fn while saving (showing 5 of 54). These functions will not be directly callable after loading.\n"
     ]
    },
    {
     "name": "stdout",
     "output_type": "stream",
     "text": [
      "INFO:tensorflow:Assets written to: model_experiments/FineTune/Transformer_F7_H24\\0141-ZE01-70\\assets\n"
     ]
    },
    {
     "name": "stderr",
     "output_type": "stream",
     "text": [
      "INFO:tensorflow:Assets written to: model_experiments/FineTune/Transformer_F7_H24\\0141-ZE01-70\\assets\n"
     ]
    },
    {
     "name": "stdout",
     "output_type": "stream",
     "text": [
      "574/574 [==============================] - 101s 175ms/step - loss: 0.0404 - root_mean_squared_error: 0.2009 - mean_absolute_percentage_error: 65135644.0000 - mean_absolute_error: 0.1557 - val_loss: 0.0204 - val_root_mean_squared_error: 0.1428 - val_mean_absolute_percentage_error: 55263968.0000 - val_mean_absolute_error: 0.1092\n",
      "Epoch 5/100\n",
      "574/574 [==============================] - ETA: 0s - loss: 0.0400 - root_mean_squared_error: 0.2000 - mean_absolute_percentage_error: 64883444.0000 - mean_absolute_error: 0.1548"
     ]
    },
    {
     "name": "stderr",
     "output_type": "stream",
     "text": [
      "WARNING:absl:Found untraced functions such as query_layer_call_fn, query_layer_call_and_return_conditional_losses, key_layer_call_fn, key_layer_call_and_return_conditional_losses, value_layer_call_fn while saving (showing 5 of 54). These functions will not be directly callable after loading.\n"
     ]
    },
    {
     "name": "stdout",
     "output_type": "stream",
     "text": [
      "INFO:tensorflow:Assets written to: model_experiments/FineTune/Transformer_F7_H24\\0141-ZE01-70\\assets\n"
     ]
    },
    {
     "name": "stderr",
     "output_type": "stream",
     "text": [
      "INFO:tensorflow:Assets written to: model_experiments/FineTune/Transformer_F7_H24\\0141-ZE01-70\\assets\n"
     ]
    },
    {
     "name": "stdout",
     "output_type": "stream",
     "text": [
      "574/574 [==============================] - 100s 174ms/step - loss: 0.0400 - root_mean_squared_error: 0.2000 - mean_absolute_percentage_error: 64883444.0000 - mean_absolute_error: 0.1548 - val_loss: 0.0203 - val_root_mean_squared_error: 0.1425 - val_mean_absolute_percentage_error: 54721176.0000 - val_mean_absolute_error: 0.1087\n",
      "Epoch 6/100\n",
      "574/574 [==============================] - 92s 161ms/step - loss: 0.0397 - root_mean_squared_error: 0.1992 - mean_absolute_percentage_error: 64654288.0000 - mean_absolute_error: 0.1541 - val_loss: 0.0203 - val_root_mean_squared_error: 0.1426 - val_mean_absolute_percentage_error: 55606768.0000 - val_mean_absolute_error: 0.1084\n",
      "Epoch 7/100\n",
      "574/574 [==============================] - ETA: 0s - loss: 0.0395 - root_mean_squared_error: 0.1986 - mean_absolute_percentage_error: 64508876.0000 - mean_absolute_error: 0.1534"
     ]
    },
    {
     "name": "stderr",
     "output_type": "stream",
     "text": [
      "WARNING:absl:Found untraced functions such as query_layer_call_fn, query_layer_call_and_return_conditional_losses, key_layer_call_fn, key_layer_call_and_return_conditional_losses, value_layer_call_fn while saving (showing 5 of 54). These functions will not be directly callable after loading.\n"
     ]
    },
    {
     "name": "stdout",
     "output_type": "stream",
     "text": [
      "INFO:tensorflow:Assets written to: model_experiments/FineTune/Transformer_F7_H24\\0141-ZE01-70\\assets\n"
     ]
    },
    {
     "name": "stderr",
     "output_type": "stream",
     "text": [
      "INFO:tensorflow:Assets written to: model_experiments/FineTune/Transformer_F7_H24\\0141-ZE01-70\\assets\n"
     ]
    },
    {
     "name": "stdout",
     "output_type": "stream",
     "text": [
      "574/574 [==============================] - 100s 174ms/step - loss: 0.0395 - root_mean_squared_error: 0.1986 - mean_absolute_percentage_error: 64508876.0000 - mean_absolute_error: 0.1534 - val_loss: 0.0202 - val_root_mean_squared_error: 0.1421 - val_mean_absolute_percentage_error: 55009608.0000 - val_mean_absolute_error: 0.1081\n",
      "Epoch 8/100\n",
      "574/574 [==============================] - ETA: 0s - loss: 0.0393 - root_mean_squared_error: 0.1981 - mean_absolute_percentage_error: 64151264.0000 - mean_absolute_error: 0.1529"
     ]
    },
    {
     "name": "stderr",
     "output_type": "stream",
     "text": [
      "WARNING:absl:Found untraced functions such as query_layer_call_fn, query_layer_call_and_return_conditional_losses, key_layer_call_fn, key_layer_call_and_return_conditional_losses, value_layer_call_fn while saving (showing 5 of 54). These functions will not be directly callable after loading.\n"
     ]
    },
    {
     "name": "stdout",
     "output_type": "stream",
     "text": [
      "INFO:tensorflow:Assets written to: model_experiments/FineTune/Transformer_F7_H24\\0141-ZE01-70\\assets\n"
     ]
    },
    {
     "name": "stderr",
     "output_type": "stream",
     "text": [
      "INFO:tensorflow:Assets written to: model_experiments/FineTune/Transformer_F7_H24\\0141-ZE01-70\\assets\n"
     ]
    },
    {
     "name": "stdout",
     "output_type": "stream",
     "text": [
      "574/574 [==============================] - 100s 173ms/step - loss: 0.0393 - root_mean_squared_error: 0.1981 - mean_absolute_percentage_error: 64151264.0000 - mean_absolute_error: 0.1529 - val_loss: 0.0201 - val_root_mean_squared_error: 0.1418 - val_mean_absolute_percentage_error: 54939676.0000 - val_mean_absolute_error: 0.1079\n",
      "Epoch 9/100\n",
      "574/574 [==============================] - ETA: 0s - loss: 0.0390 - root_mean_squared_error: 0.1975 - mean_absolute_percentage_error: 63965664.0000 - mean_absolute_error: 0.1521"
     ]
    },
    {
     "name": "stderr",
     "output_type": "stream",
     "text": [
      "WARNING:absl:Found untraced functions such as query_layer_call_fn, query_layer_call_and_return_conditional_losses, key_layer_call_fn, key_layer_call_and_return_conditional_losses, value_layer_call_fn while saving (showing 5 of 54). These functions will not be directly callable after loading.\n"
     ]
    },
    {
     "name": "stdout",
     "output_type": "stream",
     "text": [
      "INFO:tensorflow:Assets written to: model_experiments/FineTune/Transformer_F7_H24\\0141-ZE01-70\\assets\n"
     ]
    },
    {
     "name": "stderr",
     "output_type": "stream",
     "text": [
      "INFO:tensorflow:Assets written to: model_experiments/FineTune/Transformer_F7_H24\\0141-ZE01-70\\assets\n"
     ]
    },
    {
     "name": "stdout",
     "output_type": "stream",
     "text": [
      "574/574 [==============================] - 101s 176ms/step - loss: 0.0390 - root_mean_squared_error: 0.1975 - mean_absolute_percentage_error: 63965664.0000 - mean_absolute_error: 0.1521 - val_loss: 0.0201 - val_root_mean_squared_error: 0.1416 - val_mean_absolute_percentage_error: 55341396.0000 - val_mean_absolute_error: 0.1077\n",
      "Epoch 10/100\n",
      "574/574 [==============================] - ETA: 0s - loss: 0.0388 - root_mean_squared_error: 0.1969 - mean_absolute_percentage_error: 63842712.0000 - mean_absolute_error: 0.1516"
     ]
    },
    {
     "name": "stderr",
     "output_type": "stream",
     "text": [
      "WARNING:absl:Found untraced functions such as query_layer_call_fn, query_layer_call_and_return_conditional_losses, key_layer_call_fn, key_layer_call_and_return_conditional_losses, value_layer_call_fn while saving (showing 5 of 54). These functions will not be directly callable after loading.\n"
     ]
    },
    {
     "name": "stdout",
     "output_type": "stream",
     "text": [
      "INFO:tensorflow:Assets written to: model_experiments/FineTune/Transformer_F7_H24\\0141-ZE01-70\\assets\n"
     ]
    },
    {
     "name": "stderr",
     "output_type": "stream",
     "text": [
      "INFO:tensorflow:Assets written to: model_experiments/FineTune/Transformer_F7_H24\\0141-ZE01-70\\assets\n"
     ]
    },
    {
     "name": "stdout",
     "output_type": "stream",
     "text": [
      "574/574 [==============================] - 99s 173ms/step - loss: 0.0388 - root_mean_squared_error: 0.1969 - mean_absolute_percentage_error: 63842712.0000 - mean_absolute_error: 0.1516 - val_loss: 0.0200 - val_root_mean_squared_error: 0.1413 - val_mean_absolute_percentage_error: 55270552.0000 - val_mean_absolute_error: 0.1076\n",
      "Epoch 11/100\n",
      "574/574 [==============================] - ETA: 0s - loss: 0.0387 - root_mean_squared_error: 0.1967 - mean_absolute_percentage_error: 63634956.0000 - mean_absolute_error: 0.1513"
     ]
    },
    {
     "name": "stderr",
     "output_type": "stream",
     "text": [
      "WARNING:absl:Found untraced functions such as query_layer_call_fn, query_layer_call_and_return_conditional_losses, key_layer_call_fn, key_layer_call_and_return_conditional_losses, value_layer_call_fn while saving (showing 5 of 54). These functions will not be directly callable after loading.\n"
     ]
    },
    {
     "name": "stdout",
     "output_type": "stream",
     "text": [
      "INFO:tensorflow:Assets written to: model_experiments/FineTune/Transformer_F7_H24\\0141-ZE01-70\\assets\n"
     ]
    },
    {
     "name": "stderr",
     "output_type": "stream",
     "text": [
      "INFO:tensorflow:Assets written to: model_experiments/FineTune/Transformer_F7_H24\\0141-ZE01-70\\assets\n"
     ]
    },
    {
     "name": "stdout",
     "output_type": "stream",
     "text": [
      "574/574 [==============================] - 99s 172ms/step - loss: 0.0387 - root_mean_squared_error: 0.1967 - mean_absolute_percentage_error: 63634956.0000 - mean_absolute_error: 0.1513 - val_loss: 0.0200 - val_root_mean_squared_error: 0.1413 - val_mean_absolute_percentage_error: 55111268.0000 - val_mean_absolute_error: 0.1073\n",
      "Epoch 12/100\n",
      "574/574 [==============================] - ETA: 0s - loss: 0.0385 - root_mean_squared_error: 0.1963 - mean_absolute_percentage_error: 63665456.0000 - mean_absolute_error: 0.1509"
     ]
    },
    {
     "name": "stderr",
     "output_type": "stream",
     "text": [
      "WARNING:absl:Found untraced functions such as query_layer_call_fn, query_layer_call_and_return_conditional_losses, key_layer_call_fn, key_layer_call_and_return_conditional_losses, value_layer_call_fn while saving (showing 5 of 54). These functions will not be directly callable after loading.\n"
     ]
    },
    {
     "name": "stdout",
     "output_type": "stream",
     "text": [
      "INFO:tensorflow:Assets written to: model_experiments/FineTune/Transformer_F7_H24\\0141-ZE01-70\\assets\n"
     ]
    },
    {
     "name": "stderr",
     "output_type": "stream",
     "text": [
      "INFO:tensorflow:Assets written to: model_experiments/FineTune/Transformer_F7_H24\\0141-ZE01-70\\assets\n"
     ]
    },
    {
     "name": "stdout",
     "output_type": "stream",
     "text": [
      "574/574 [==============================] - 98s 170ms/step - loss: 0.0385 - root_mean_squared_error: 0.1963 - mean_absolute_percentage_error: 63665456.0000 - mean_absolute_error: 0.1509 - val_loss: 0.0199 - val_root_mean_squared_error: 0.1411 - val_mean_absolute_percentage_error: 54929204.0000 - val_mean_absolute_error: 0.1075\n",
      "Epoch 13/100\n",
      "574/574 [==============================] - ETA: 0s - loss: 0.0384 - root_mean_squared_error: 0.1959 - mean_absolute_percentage_error: 63441984.0000 - mean_absolute_error: 0.1504"
     ]
    },
    {
     "name": "stderr",
     "output_type": "stream",
     "text": [
      "WARNING:absl:Found untraced functions such as query_layer_call_fn, query_layer_call_and_return_conditional_losses, key_layer_call_fn, key_layer_call_and_return_conditional_losses, value_layer_call_fn while saving (showing 5 of 54). These functions will not be directly callable after loading.\n"
     ]
    },
    {
     "name": "stdout",
     "output_type": "stream",
     "text": [
      "INFO:tensorflow:Assets written to: model_experiments/FineTune/Transformer_F7_H24\\0141-ZE01-70\\assets\n"
     ]
    },
    {
     "name": "stderr",
     "output_type": "stream",
     "text": [
      "INFO:tensorflow:Assets written to: model_experiments/FineTune/Transformer_F7_H24\\0141-ZE01-70\\assets\n"
     ]
    },
    {
     "name": "stdout",
     "output_type": "stream",
     "text": [
      "574/574 [==============================] - 102s 177ms/step - loss: 0.0384 - root_mean_squared_error: 0.1959 - mean_absolute_percentage_error: 63441984.0000 - mean_absolute_error: 0.1504 - val_loss: 0.0198 - val_root_mean_squared_error: 0.1407 - val_mean_absolute_percentage_error: 54396704.0000 - val_mean_absolute_error: 0.1071\n",
      "Epoch 14/100\n",
      "574/574 [==============================] - ETA: 0s - loss: 0.0381 - root_mean_squared_error: 0.1953 - mean_absolute_percentage_error: 63094924.0000 - mean_absolute_error: 0.1497"
     ]
    },
    {
     "name": "stderr",
     "output_type": "stream",
     "text": [
      "WARNING:absl:Found untraced functions such as query_layer_call_fn, query_layer_call_and_return_conditional_losses, key_layer_call_fn, key_layer_call_and_return_conditional_losses, value_layer_call_fn while saving (showing 5 of 54). These functions will not be directly callable after loading.\n"
     ]
    },
    {
     "name": "stdout",
     "output_type": "stream",
     "text": [
      "INFO:tensorflow:Assets written to: model_experiments/FineTune/Transformer_F7_H24\\0141-ZE01-70\\assets\n"
     ]
    },
    {
     "name": "stderr",
     "output_type": "stream",
     "text": [
      "INFO:tensorflow:Assets written to: model_experiments/FineTune/Transformer_F7_H24\\0141-ZE01-70\\assets\n"
     ]
    },
    {
     "name": "stdout",
     "output_type": "stream",
     "text": [
      "574/574 [==============================] - 99s 172ms/step - loss: 0.0381 - root_mean_squared_error: 0.1953 - mean_absolute_percentage_error: 63094924.0000 - mean_absolute_error: 0.1497 - val_loss: 0.0197 - val_root_mean_squared_error: 0.1403 - val_mean_absolute_percentage_error: 54092392.0000 - val_mean_absolute_error: 0.1068\n",
      "Epoch 15/100\n",
      "574/574 [==============================] - 91s 159ms/step - loss: 0.0381 - root_mean_squared_error: 0.1952 - mean_absolute_percentage_error: 63130120.0000 - mean_absolute_error: 0.1495 - val_loss: 0.0197 - val_root_mean_squared_error: 0.1403 - val_mean_absolute_percentage_error: 54098040.0000 - val_mean_absolute_error: 0.1066\n",
      "Epoch 16/100\n",
      "574/574 [==============================] - 91s 159ms/step - loss: 0.0379 - root_mean_squared_error: 0.1946 - mean_absolute_percentage_error: 62731524.0000 - mean_absolute_error: 0.1487 - val_loss: 0.0197 - val_root_mean_squared_error: 0.1405 - val_mean_absolute_percentage_error: 54152508.0000 - val_mean_absolute_error: 0.1068\n",
      "81/81 [==============================] - 5s 48ms/step - loss: 0.0282 - root_mean_squared_error: 0.1680 - mean_absolute_percentage_error: 79635712.0000 - mean_absolute_error: 0.1372\n"
     ]
    }
   ],
   "source": [
    "#windows_dict[smart_meter_names][0-3] \n",
    "#    -> 0:window_F5_H12 , 1:window_F5_H24 , 2:window_F7_H12 , 3:window_F7_H24\n",
    "forecasts_dict_LSTM_F7_H24 = {}\n",
    "forecasts_dict_CNN_F7_H24 = {}\n",
    "forecasts_dict_Transformer_F7_H24 = {}\n",
    "\n",
    "for idx, client in enumerate(smart_meter_names):\n",
    "    IPython.display.clear_output()\n",
    "    print(\"---------------------------------------------------------------------------\", idx+1, \"/4\")\n",
    "    print(\"---------------------------------------------------------------------------\", idx+1, \"/4\")\n",
    "    print(\"---------------------------------------------------------------------------\", idx+1, \"/4\")\n",
    "\n",
    "    #LSTM\n",
    "    history = compile_and_fit(multi_lstm_model, windows_dict[client][0], model_name='LSTM_F7_H24', client_name=client, MAX_EPOCHS=MAX_EPOCHS)\n",
    "    #Load best model  \n",
    "    model = tf.keras.models.load_model(f\"model_experiments/FineTune/LSTM_F7_H24/{client}\")\n",
    "    model_evaluation_test = model.evaluate(windows_dict[client][0].test)\n",
    "    #Save results\n",
    "    forecasts_dict_LSTM_F7_H24[client] = {\n",
    "        'MSE':model_evaluation_test[0], 'RMSE':model_evaluation_test[1], 'MAPE':model_evaluation_test[2],\n",
    "        'MAE':model_evaluation_test[3], 'Time':((timetaken.logs[-1][1]) / (timetaken.logs[-1][0]+1))                              \n",
    "                             }\n",
    "\n",
    "    #CNN\n",
    "    history = compile_and_fit(multi_conv_model, windows_dict[client][0], model_name='CNN_F7_H24', client_name=client, MAX_EPOCHS=MAX_EPOCHS)\n",
    "    #Load best model\n",
    "    model = tf.keras.models.load_model(f\"model_experiments/FineTune/CNN_F7_H24/{client}\")\n",
    "    model_evaluation_test = model.evaluate(windows_dict[client][0].test)\n",
    "    #Save results\n",
    "    forecasts_dict_CNN_F7_H24[client] = {\n",
    "        'MSE':model_evaluation_test[0], 'RMSE':model_evaluation_test[1], 'MAPE':model_evaluation_test[2],\n",
    "        'MAE':model_evaluation_test[3], 'Time':((timetaken.logs[-1][1]) / (timetaken.logs[-1][0]+1))                              \n",
    "                             }\n",
    "\n",
    "    #Transformer\n",
    "    history = compile_and_fit(multi_transformer_model, windows_dict[client][0], model_name='Transformer_F7_H24', client_name=client, MAX_EPOCHS=MAX_EPOCHS)\n",
    "    #Load best model\n",
    "    model = tf.keras.models.load_model(f\"model_experiments/FineTune/Transformer_F7_H24/{client}\")\n",
    "    model_evaluation_test = model.evaluate(windows_dict[client][0].test)\n",
    "    #Save results\n",
    "    forecasts_dict_Transformer_F7_H24[client] = {\n",
    "        'MSE':model_evaluation_test[0], 'RMSE':model_evaluation_test[1], 'MAPE':model_evaluation_test[2],\n",
    "        'MAE':model_evaluation_test[3], 'Time':((timetaken.logs[-1][1]) / (timetaken.logs[-1][0]+1))                              \n",
    "                             }\n",
    "\n",
    "final_dict['LSTM'] = forecasts_dict_LSTM_F7_H24\n",
    "final_dict['CNN'] = forecasts_dict_CNN_F7_H24\n",
    "final_dict['Transformer'] = forecasts_dict_Transformer_F7_H24"
   ]
  },
  {
   "cell_type": "code",
   "execution_count": 50,
   "id": "9bb2b0f6",
   "metadata": {},
   "outputs": [
    {
     "data": {
      "text/plain": [
       "dict_items([('0101-ZE01-70', {'MSE': 0.020146077498793602, 'RMSE': 0.14193688333034515, 'MAPE': 67092180.0, 'MAE': 0.1158374547958374, 'Time': 1.3313523333830137}), ('0101-ZE01-74', {'MSE': 0.0170803964138031, 'RMSE': 0.1306920051574707, 'MAPE': 46520712.0, 'MAE': 0.09969133883714676, 'Time': 1.522332049983864}), ('0141-ZE01-70', {'MSE': 0.03861356899142265, 'RMSE': 0.19650331139564514, 'MAPE': 101532904.0, 'MAE': 0.16599275171756744, 'Time': 2.4462270500371233})])"
      ]
     },
     "execution_count": 50,
     "metadata": {},
     "output_type": "execute_result"
    }
   ],
   "source": [
    "final_dict['CNN'].items()"
   ]
  },
  {
   "cell_type": "code",
   "execution_count": 51,
   "id": "e0299fd8",
   "metadata": {},
   "outputs": [
    {
     "data": {
      "text/plain": [
       "dict_items([('0101-ZE01-70', {'MSE': 0.020763656124472618, 'RMSE': 0.1440960019826889, 'MAPE': 72457808.0, 'MAE': 0.11569443345069885, 'Time': 31.42248266671474}), ('0101-ZE01-74', {'MSE': 0.01612089015543461, 'RMSE': 0.12696804106235504, 'MAPE': 46239428.0, 'MAE': 0.09669122844934464, 'Time': 34.93378210005661}), ('0141-ZE01-70', {'MSE': 0.042655620723962784, 'RMSE': 0.20653238892555237, 'MAPE': 101577920.0, 'MAE': 0.18117354810237885, 'Time': 39.799778166537486})])"
      ]
     },
     "execution_count": 51,
     "metadata": {},
     "output_type": "execute_result"
    }
   ],
   "source": [
    "final_dict['LSTM'].items()"
   ]
  },
  {
   "cell_type": "code",
   "execution_count": 52,
   "id": "9d97c2b9",
   "metadata": {},
   "outputs": [
    {
     "data": {
      "text/plain": [
       "dict_items([('0101-ZE01-70', {'MSE': 0.014569027349352837, 'RMSE': 0.12070224434137344, 'MAPE': 53952704.0, 'MAE': 0.09874415397644043, 'Time': 2.42491796470302}), ('0101-ZE01-74', {'MSE': 0.010650650598108768, 'RMSE': 0.1032019704580307, 'MAPE': 33932964.0, 'MAE': 0.07747551053762436, 'Time': 9.830078862549271}), ('0141-ZE01-70', {'MSE': 0.028228243812918663, 'RMSE': 0.1680126190185547, 'MAPE': 79635712.0, 'MAE': 0.13720466196537018, 'Time': 5.708910387504147})])"
      ]
     },
     "execution_count": 52,
     "metadata": {},
     "output_type": "execute_result"
    }
   ],
   "source": [
    "final_dict['Transformer'].items()"
   ]
  },
  {
   "cell_type": "code",
   "execution_count": 53,
   "id": "9fa89eaf",
   "metadata": {},
   "outputs": [],
   "source": [
    "df = pd.DataFrame(columns=['Model','MSE', 'RMSE', 'MAE', 'Time'])\n",
    "sum_RMSE, sum_MSE, sum_MAE, sum_Time = 0, 0, 0, 0\n",
    "\n",
    "for key, value in final_dict['LSTM'].items():\n",
    "    sum_RMSE= sum_RMSE + value['RMSE']\n",
    "    sum_MSE= sum_MSE + value['MSE']\n",
    "    sum_MAE= sum_MAE + value['MAE']\n",
    "    sum_Time = sum_Time + value['Time']\n",
    "\n",
    "df = pd.concat(\n",
    "    [\n",
    "        df[['Model', 'RMSE', 'MSE', 'MAE', 'Time']],\n",
    "        pd.DataFrame(\n",
    "            [['LSTM', sum_RMSE, sum_MSE, sum_MAE, (sum_Time/ 3)]], \n",
    "            #index=df.index, \n",
    "            columns=['Model', 'RMSE', 'MSE', 'MAE', 'Time']\n",
    "        )\n",
    "    ], axis=0\n",
    ")\n",
    "\n",
    "sum_RMSE, sum_MSE, sum_MAE, sum_Time = 0, 0, 0, 0\n",
    "for key, value in final_dict['CNN'].items():\n",
    "    sum_RMSE= sum_RMSE + value['RMSE']\n",
    "    sum_MSE= sum_MSE + value['MSE']\n",
    "    sum_MAE= sum_MAE + value['MAE']\n",
    "    sum_Time = sum_Time + value['Time']\n",
    "\n",
    "df = pd.concat(\n",
    "    [\n",
    "        df[['Model', 'RMSE', 'MSE', 'MAE', 'Time']],\n",
    "        pd.DataFrame(\n",
    "            [['CNN', sum_RMSE, sum_MSE, sum_MAE, (sum_Time/ 3)]], \n",
    "            #index=df.index, \n",
    "            columns=['Model', 'RMSE', 'MSE', 'MAE', 'Time']\n",
    "        )\n",
    "    ], axis=0\n",
    ")\n",
    "\n",
    "sum_RMSE, sum_MSE, sum_MAE, sum_Time = 0, 0, 0, 0\n",
    "for key, value in final_dict['Transformer'].items():\n",
    "    sum_RMSE= sum_RMSE + value['RMSE']\n",
    "    sum_MSE= sum_MSE + value['MSE']\n",
    "    sum_MAE= sum_MAE + value['MAE']\n",
    "    sum_Time = sum_Time + value['Time']\n",
    "\n",
    "df = pd.concat(\n",
    "    [\n",
    "        df[['Model', 'RMSE', 'MSE', 'MAE', 'Time']],\n",
    "        pd.DataFrame(\n",
    "            [['Transformer', sum_RMSE, sum_MSE, sum_MAE, (sum_Time/ 3)]], \n",
    "            #index=df.index, \n",
    "            columns=['Model', 'RMSE', 'MSE', 'MAE', 'Time']\n",
    "        )\n",
    "    ], axis=0\n",
    ")"
   ]
  },
  {
   "cell_type": "code",
   "execution_count": 54,
   "id": "b8e40366",
   "metadata": {},
   "outputs": [
    {
     "data": {
      "text/html": [
       "<div>\n",
       "<style scoped>\n",
       "    .dataframe tbody tr th:only-of-type {\n",
       "        vertical-align: middle;\n",
       "    }\n",
       "\n",
       "    .dataframe tbody tr th {\n",
       "        vertical-align: top;\n",
       "    }\n",
       "\n",
       "    .dataframe thead th {\n",
       "        text-align: right;\n",
       "    }\n",
       "</style>\n",
       "<table border=\"1\" class=\"dataframe\">\n",
       "  <thead>\n",
       "    <tr style=\"text-align: right;\">\n",
       "      <th></th>\n",
       "      <th>Model</th>\n",
       "      <th>RMSE</th>\n",
       "      <th>MSE</th>\n",
       "      <th>MAE</th>\n",
       "      <th>Time</th>\n",
       "    </tr>\n",
       "  </thead>\n",
       "  <tbody>\n",
       "    <tr>\n",
       "      <th>0</th>\n",
       "      <td>LSTM</td>\n",
       "      <td>0.477596</td>\n",
       "      <td>0.079540</td>\n",
       "      <td>0.393559</td>\n",
       "      <td>35.385348</td>\n",
       "    </tr>\n",
       "    <tr>\n",
       "      <th>0</th>\n",
       "      <td>CNN</td>\n",
       "      <td>0.469132</td>\n",
       "      <td>0.075840</td>\n",
       "      <td>0.381522</td>\n",
       "      <td>1.766637</td>\n",
       "    </tr>\n",
       "    <tr>\n",
       "      <th>0</th>\n",
       "      <td>Transformer</td>\n",
       "      <td>0.391917</td>\n",
       "      <td>0.053448</td>\n",
       "      <td>0.313424</td>\n",
       "      <td>5.987969</td>\n",
       "    </tr>\n",
       "  </tbody>\n",
       "</table>\n",
       "</div>"
      ],
      "text/plain": [
       "         Model      RMSE       MSE       MAE       Time\n",
       "0         LSTM  0.477596  0.079540  0.393559  35.385348\n",
       "0          CNN  0.469132  0.075840  0.381522   1.766637\n",
       "0  Transformer  0.391917  0.053448  0.313424   5.987969"
      ]
     },
     "execution_count": 54,
     "metadata": {},
     "output_type": "execute_result"
    }
   ],
   "source": [
    "df"
   ]
  },
  {
   "cell_type": "code",
   "execution_count": null,
   "id": "d6bfb6fa",
   "metadata": {},
   "outputs": [],
   "source": [
    "final_name = r\"C:\\Users\\jonas\\bwSyncShare\\02Python Code\\model_experiments\\FineTune\\CNN_fine_tuning_results.csv\"\n",
    "#df.to_csv(final_name)"
   ]
  },
  {
   "cell_type": "code",
   "execution_count": 58,
   "id": "fd6f8aab",
   "metadata": {},
   "outputs": [
    {
     "data": {
      "text/html": [
       "<div>\n",
       "<style scoped>\n",
       "    .dataframe tbody tr th:only-of-type {\n",
       "        vertical-align: middle;\n",
       "    }\n",
       "\n",
       "    .dataframe tbody tr th {\n",
       "        vertical-align: top;\n",
       "    }\n",
       "\n",
       "    .dataframe thead th {\n",
       "        text-align: right;\n",
       "    }\n",
       "</style>\n",
       "<table border=\"1\" class=\"dataframe\">\n",
       "  <thead>\n",
       "    <tr style=\"text-align: right;\">\n",
       "      <th></th>\n",
       "      <th>Unnamed: 0</th>\n",
       "      <th>Test_Case</th>\n",
       "      <th>RMSE</th>\n",
       "      <th>MSE</th>\n",
       "      <th>MAE</th>\n",
       "      <th>Time</th>\n",
       "    </tr>\n",
       "  </thead>\n",
       "  <tbody>\n",
       "    <tr>\n",
       "      <th>0</th>\n",
       "      <td>0</td>\n",
       "      <td>L1_C16_DL1_DU16</td>\n",
       "      <td>0.572807</td>\n",
       "      <td>0.084361</td>\n",
       "      <td>0.461178</td>\n",
       "      <td>2.971124</td>\n",
       "    </tr>\n",
       "    <tr>\n",
       "      <th>1</th>\n",
       "      <td>1</td>\n",
       "      <td>L1_C16_DL1_DU32</td>\n",
       "      <td>0.549651</td>\n",
       "      <td>0.078314</td>\n",
       "      <td>0.443288</td>\n",
       "      <td>4.365552</td>\n",
       "    </tr>\n",
       "    <tr>\n",
       "      <th>2</th>\n",
       "      <td>2</td>\n",
       "      <td>L1_C16_DL0_DU32</td>\n",
       "      <td>0.570663</td>\n",
       "      <td>0.084042</td>\n",
       "      <td>0.457180</td>\n",
       "      <td>4.437855</td>\n",
       "    </tr>\n",
       "    <tr>\n",
       "      <th>3</th>\n",
       "      <td>3</td>\n",
       "      <td>L4_C16_DL0_DU32</td>\n",
       "      <td>0.593683</td>\n",
       "      <td>0.089635</td>\n",
       "      <td>0.470715</td>\n",
       "      <td>6.647724</td>\n",
       "    </tr>\n",
       "    <tr>\n",
       "      <th>4</th>\n",
       "      <td>4</td>\n",
       "      <td>L4_C32_DL0_DU32</td>\n",
       "      <td>0.597251</td>\n",
       "      <td>0.090928</td>\n",
       "      <td>0.479347</td>\n",
       "      <td>13.653494</td>\n",
       "    </tr>\n",
       "    <tr>\n",
       "      <th>5</th>\n",
       "      <td>5</td>\n",
       "      <td>L4_C8_DL1_DU16</td>\n",
       "      <td>0.671669</td>\n",
       "      <td>0.118445</td>\n",
       "      <td>0.564073</td>\n",
       "      <td>15.294244</td>\n",
       "    </tr>\n",
       "    <tr>\n",
       "      <th>6</th>\n",
       "      <td>6</td>\n",
       "      <td>L8_C8_DL0_DU16</td>\n",
       "      <td>0.672715</td>\n",
       "      <td>0.118770</td>\n",
       "      <td>0.564959</td>\n",
       "      <td>16.950110</td>\n",
       "    </tr>\n",
       "    <tr>\n",
       "      <th>7</th>\n",
       "      <td>7</td>\n",
       "      <td>L4_C4_DL0_DU16</td>\n",
       "      <td>0.607629</td>\n",
       "      <td>0.094304</td>\n",
       "      <td>0.501911</td>\n",
       "      <td>16.082034</td>\n",
       "    </tr>\n",
       "    <tr>\n",
       "      <th>8</th>\n",
       "      <td>0</td>\n",
       "      <td>L24_C1_DL0_DU16_DO1</td>\n",
       "      <td>0.681296</td>\n",
       "      <td>0.121143</td>\n",
       "      <td>0.572247</td>\n",
       "      <td>31.304396</td>\n",
       "    </tr>\n",
       "  </tbody>\n",
       "</table>\n",
       "</div>"
      ],
      "text/plain": [
       "   Unnamed: 0            Test_Case      RMSE       MSE       MAE       Time\n",
       "0           0      L1_C16_DL1_DU16  0.572807  0.084361  0.461178   2.971124\n",
       "1           1      L1_C16_DL1_DU32  0.549651  0.078314  0.443288   4.365552\n",
       "2           2      L1_C16_DL0_DU32  0.570663  0.084042  0.457180   4.437855\n",
       "3           3      L4_C16_DL0_DU32  0.593683  0.089635  0.470715   6.647724\n",
       "4           4      L4_C32_DL0_DU32  0.597251  0.090928  0.479347  13.653494\n",
       "5           5       L4_C8_DL1_DU16  0.671669  0.118445  0.564073  15.294244\n",
       "6           6       L8_C8_DL0_DU16  0.672715  0.118770  0.564959  16.950110\n",
       "7           7       L4_C4_DL0_DU16  0.607629  0.094304  0.501911  16.082034\n",
       "8           0  L24_C1_DL0_DU16_DO1  0.681296  0.121143  0.572247  31.304396"
      ]
     },
     "execution_count": 58,
     "metadata": {},
     "output_type": "execute_result"
    }
   ],
   "source": [
    "final_name = r\"C:\\Users\\rs1044\\bwSyncShare\\02Python Code\\model_experiments\\FineTune\\LSTM_fine_tuning_results.csv\"\n",
    "df = pd.read_csv(final_name, encoding= 'unicode_escape')\n",
    "df"
   ]
  },
  {
   "cell_type": "code",
   "execution_count": 59,
   "id": "8e097939",
   "metadata": {},
   "outputs": [
    {
     "data": {
      "text/html": [
       "<div>\n",
       "<style scoped>\n",
       "    .dataframe tbody tr th:only-of-type {\n",
       "        vertical-align: middle;\n",
       "    }\n",
       "\n",
       "    .dataframe tbody tr th {\n",
       "        vertical-align: top;\n",
       "    }\n",
       "\n",
       "    .dataframe thead th {\n",
       "        text-align: right;\n",
       "    }\n",
       "</style>\n",
       "<table border=\"1\" class=\"dataframe\">\n",
       "  <thead>\n",
       "    <tr style=\"text-align: right;\">\n",
       "      <th></th>\n",
       "      <th>Unnamed: 0</th>\n",
       "      <th>Test_Case</th>\n",
       "      <th>RMSE</th>\n",
       "      <th>MSE</th>\n",
       "      <th>MAE</th>\n",
       "      <th>Time</th>\n",
       "    </tr>\n",
       "  </thead>\n",
       "  <tbody>\n",
       "    <tr>\n",
       "      <th>0</th>\n",
       "      <td>0</td>\n",
       "      <td>CW3_L1_F256_D1_DU32</td>\n",
       "      <td>0.609200</td>\n",
       "      <td>0.096326</td>\n",
       "      <td>0.484167</td>\n",
       "      <td>0.398861</td>\n",
       "    </tr>\n",
       "    <tr>\n",
       "      <th>1</th>\n",
       "      <td>0</td>\n",
       "      <td>CW3_L1_F8_D0_DU32</td>\n",
       "      <td>0.609262</td>\n",
       "      <td>0.097160</td>\n",
       "      <td>0.495353</td>\n",
       "      <td>0.356888</td>\n",
       "    </tr>\n",
       "    <tr>\n",
       "      <th>2</th>\n",
       "      <td>0</td>\n",
       "      <td>CW3_L1_F16_D0_DU32</td>\n",
       "      <td>0.605587</td>\n",
       "      <td>0.096209</td>\n",
       "      <td>0.489842</td>\n",
       "      <td>0.302683</td>\n",
       "    </tr>\n",
       "    <tr>\n",
       "      <th>3</th>\n",
       "      <td>0</td>\n",
       "      <td>CW3_L1_F24_D0_DU32</td>\n",
       "      <td>0.603218</td>\n",
       "      <td>0.095112</td>\n",
       "      <td>0.485441</td>\n",
       "      <td>0.326675</td>\n",
       "    </tr>\n",
       "    <tr>\n",
       "      <th>4</th>\n",
       "      <td>0</td>\n",
       "      <td>CW3_L1_F32_D0_DU32</td>\n",
       "      <td>0.611691</td>\n",
       "      <td>0.097684</td>\n",
       "      <td>0.492082</td>\n",
       "      <td>0.343073</td>\n",
       "    </tr>\n",
       "    <tr>\n",
       "      <th>5</th>\n",
       "      <td>0</td>\n",
       "      <td>CW3_L1_F64_D0_DU32</td>\n",
       "      <td>0.607900</td>\n",
       "      <td>0.096479</td>\n",
       "      <td>0.487299</td>\n",
       "      <td>0.342826</td>\n",
       "    </tr>\n",
       "    <tr>\n",
       "      <th>6</th>\n",
       "      <td>0</td>\n",
       "      <td>CW3_L1_F128_D0_DU32</td>\n",
       "      <td>0.609376</td>\n",
       "      <td>0.096983</td>\n",
       "      <td>0.487662</td>\n",
       "      <td>0.355401</td>\n",
       "    </tr>\n",
       "    <tr>\n",
       "      <th>7</th>\n",
       "      <td>0</td>\n",
       "      <td>CW3_L1_F8_D1_DU8</td>\n",
       "      <td>0.622472</td>\n",
       "      <td>0.101198</td>\n",
       "      <td>0.510760</td>\n",
       "      <td>0.259468</td>\n",
       "    </tr>\n",
       "    <tr>\n",
       "      <th>8</th>\n",
       "      <td>0</td>\n",
       "      <td>CW3_L1_F8_D1_DU16</td>\n",
       "      <td>0.605262</td>\n",
       "      <td>0.095242</td>\n",
       "      <td>0.494691</td>\n",
       "      <td>0.386076</td>\n",
       "    </tr>\n",
       "    <tr>\n",
       "      <th>9</th>\n",
       "      <td>0</td>\n",
       "      <td>CW3_L1_F8_D1_DU32</td>\n",
       "      <td>0.610856</td>\n",
       "      <td>0.096932</td>\n",
       "      <td>0.498511</td>\n",
       "      <td>0.300280</td>\n",
       "    </tr>\n",
       "    <tr>\n",
       "      <th>10</th>\n",
       "      <td>0</td>\n",
       "      <td>CW3_L1_F8_D1_DU64</td>\n",
       "      <td>0.608722</td>\n",
       "      <td>0.096711</td>\n",
       "      <td>0.489804</td>\n",
       "      <td>0.352215</td>\n",
       "    </tr>\n",
       "    <tr>\n",
       "      <th>11</th>\n",
       "      <td>0</td>\n",
       "      <td>CW3_L1_F8_D1_DU128</td>\n",
       "      <td>0.609624</td>\n",
       "      <td>0.096703</td>\n",
       "      <td>0.494451</td>\n",
       "      <td>0.299369</td>\n",
       "    </tr>\n",
       "    <tr>\n",
       "      <th>12</th>\n",
       "      <td>0</td>\n",
       "      <td>CW3_L1_F8_D2_DU16</td>\n",
       "      <td>0.606515</td>\n",
       "      <td>0.095864</td>\n",
       "      <td>0.493108</td>\n",
       "      <td>0.322674</td>\n",
       "    </tr>\n",
       "    <tr>\n",
       "      <th>13</th>\n",
       "      <td>0</td>\n",
       "      <td>CW3_L1_F24_D2_DU16</td>\n",
       "      <td>0.609674</td>\n",
       "      <td>0.096711</td>\n",
       "      <td>0.494268</td>\n",
       "      <td>0.300834</td>\n",
       "    </tr>\n",
       "    <tr>\n",
       "      <th>14</th>\n",
       "      <td>0</td>\n",
       "      <td>CW3_L1_F24_D1_DU16</td>\n",
       "      <td>0.610910</td>\n",
       "      <td>0.097559</td>\n",
       "      <td>0.494741</td>\n",
       "      <td>0.369843</td>\n",
       "    </tr>\n",
       "    <tr>\n",
       "      <th>15</th>\n",
       "      <td>0</td>\n",
       "      <td>CW5_L1_F24_D0_DU16</td>\n",
       "      <td>0.609066</td>\n",
       "      <td>0.096639</td>\n",
       "      <td>0.490483</td>\n",
       "      <td>0.312397</td>\n",
       "    </tr>\n",
       "    <tr>\n",
       "      <th>16</th>\n",
       "      <td>0</td>\n",
       "      <td>CW3_L2_F24_D0_DU16</td>\n",
       "      <td>0.604657</td>\n",
       "      <td>0.095416</td>\n",
       "      <td>0.486467</td>\n",
       "      <td>0.304794</td>\n",
       "    </tr>\n",
       "  </tbody>\n",
       "</table>\n",
       "</div>"
      ],
      "text/plain": [
       "    Unnamed: 0            Test_Case      RMSE       MSE       MAE      Time\n",
       "0            0  CW3_L1_F256_D1_DU32  0.609200  0.096326  0.484167  0.398861\n",
       "1            0    CW3_L1_F8_D0_DU32  0.609262  0.097160  0.495353  0.356888\n",
       "2            0   CW3_L1_F16_D0_DU32  0.605587  0.096209  0.489842  0.302683\n",
       "3            0   CW3_L1_F24_D0_DU32  0.603218  0.095112  0.485441  0.326675\n",
       "4            0   CW3_L1_F32_D0_DU32  0.611691  0.097684  0.492082  0.343073\n",
       "5            0   CW3_L1_F64_D0_DU32  0.607900  0.096479  0.487299  0.342826\n",
       "6            0  CW3_L1_F128_D0_DU32  0.609376  0.096983  0.487662  0.355401\n",
       "7            0     CW3_L1_F8_D1_DU8  0.622472  0.101198  0.510760  0.259468\n",
       "8            0    CW3_L1_F8_D1_DU16  0.605262  0.095242  0.494691  0.386076\n",
       "9            0    CW3_L1_F8_D1_DU32  0.610856  0.096932  0.498511  0.300280\n",
       "10           0    CW3_L1_F8_D1_DU64  0.608722  0.096711  0.489804  0.352215\n",
       "11           0   CW3_L1_F8_D1_DU128  0.609624  0.096703  0.494451  0.299369\n",
       "12           0    CW3_L1_F8_D2_DU16  0.606515  0.095864  0.493108  0.322674\n",
       "13           0   CW3_L1_F24_D2_DU16  0.609674  0.096711  0.494268  0.300834\n",
       "14           0   CW3_L1_F24_D1_DU16  0.610910  0.097559  0.494741  0.369843\n",
       "15           0   CW5_L1_F24_D0_DU16  0.609066  0.096639  0.490483  0.312397\n",
       "16           0   CW3_L2_F24_D0_DU16  0.604657  0.095416  0.486467  0.304794"
      ]
     },
     "execution_count": 59,
     "metadata": {},
     "output_type": "execute_result"
    }
   ],
   "source": [
    "final_name = r\"C:\\Users\\rs1044\\bwSyncShare\\02Python Code\\model_experiments\\FineTune\\CNN_fine_tuning_results.csv\"\n",
    "df = pd.read_csv(final_name, encoding= 'unicode_escape')\n",
    "df"
   ]
  },
  {
   "cell_type": "code",
   "execution_count": null,
   "id": "fdcdf404",
   "metadata": {},
   "outputs": [],
   "source": []
  }
 ],
 "metadata": {
  "kernelspec": {
   "display_name": "Python 3 (ipykernel)",
   "language": "python",
   "name": "python3"
  },
  "language_info": {
   "codemirror_mode": {
    "name": "ipython",
    "version": 3
   },
   "file_extension": ".py",
   "mimetype": "text/x-python",
   "name": "python",
   "nbconvert_exporter": "python",
   "pygments_lexer": "ipython3",
   "version": "3.10.5"
  }
 },
 "nbformat": 4,
 "nbformat_minor": 5
}
